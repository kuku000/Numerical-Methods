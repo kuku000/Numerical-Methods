{
 "cells": [
  {
   "cell_type": "code",
   "execution_count": 5,
   "id": "52563a12-0c78-45b2-9395-b2588e2a4275",
   "metadata": {},
   "outputs": [],
   "source": [
    "import numpy  as np\n",
    "from scipy import linalg\n",
    "import math\n",
    "from numpy.linalg import inv\n",
    "#downhill\n",
    "def downhill(F,xStart,side=0.1,tol=1.0e-6):\n",
    "    n = len(xStart)                 # Number of variables\n",
    "    x = np.zeros((n+1,n)) \n",
    "    f = np.zeros(n+1)\n",
    "    \n",
    "  # Generate starting simplex\n",
    "    x[0] = xStart\n",
    "    for i in range(1,n+1):\n",
    "        x[i] = xStart\n",
    "        x[i,i-1] = xStart[i-1] + side        \n",
    "  # Compute values of F at the vertices of the simplex     \n",
    "    for i in range(n+1): f[i] = F(x[i])\n",
    "    \n",
    "  # Main loop\n",
    "    for k in range(500):\n",
    "      # Find highest and lowest vertices\n",
    "        iLo = np.argmin(f)\n",
    "        iHi = np.argmax(f)       \n",
    "      # Compute the move vector d\n",
    "        d = (-(n+1)*x[iHi] + np.sum(x,axis=0))/n\n",
    "      # Check for convergence\n",
    "        if math.sqrt(np.dot(d,d)/n) < tol: return x[iLo]\n",
    "        \n",
    "      # Try reflection\n",
    "        xNew = x[iHi] + 2.0*d              \n",
    "        fNew = F(xNew)        \n",
    "        if fNew <= f[iLo]:        # Accept reflection \n",
    "            x[iHi] = xNew\n",
    "            f[iHi] = fNew\n",
    "          # Try expanding the reflection\n",
    "            xNew = x[iHi] + d               \n",
    "            fNew = F(xNew)\n",
    "            if fNew <= f[iLo]:    # Accept expansion\n",
    "                x[iHi] = xNew\n",
    "                f[iHi] = fNew\n",
    "        else:\n",
    "          # Try reflection again\n",
    "            if fNew <= f[iHi]:    # Accept reflection\n",
    "                x[iHi] = xNew\n",
    "                f[iHi] = fNew\n",
    "            else:\n",
    "              # Try contraction\n",
    "                xNew = x[iHi] + 0.5*d\n",
    "                fNew = F(xNew)\n",
    "                if fNew <= f[iHi]: # Accept contraction\n",
    "                    x[iHi] = xNew\n",
    "                    f[iHi] = fNew\n",
    "                else:\n",
    "                  # Use shrinkage\n",
    "                    for i in range(len(x)):\n",
    "                        if i != iLo:\n",
    "                            x[i] = (x[i] - x[iLo])*0.5\n",
    "                            f[i] = F(x[i])\n",
    "    print(\"Too many iterations in downhill\")\n",
    "    return x[iLo]\n",
    "\n",
    "\n",
    "    \n",
    "def f(x):\n",
    "    #特徵值\n",
    "    global eVal\n",
    "    #拉格朗日算符\n",
    "    lamda =1*10**6\n",
    "    min_eVal = 0.4\n",
    "    \n",
    "    A = np.array([[4*(x[0]**4+x[1]**4), 2*x[1]**4],\\\n",
    "                [2*x[1]**4, 4*x[1]**4]])\n",
    "    B = np.array([[4*(x[0]**2+x[1]**2), -3*x[1]**2],\\\n",
    "                [-3*x[1]**2, 4*x[1]**2]])\n",
    "    #解廣義特徵向量及特徵值 A=Lamda*B\n",
    "    #這裡使用scipy的eig與numpy的eig不同在於numpy的不能解廣義的特徵值\n",
    "    #及特徵向量\n",
    "    aeVal, l, r = linalg.eig(A, B, right = True, left =True)\n",
    "    #找較小的\n",
    "    aeVal = min(aeVal)\n",
    "    #取實部scipy的eig算出來會顯示虛部\n",
    "    eVal = aeVal.real\n",
    "    #merit function:F(x) + lamda*P(x)\n",
    "    return x[0]**2 + x[1]**2 + lamda*((max(0, min_eVal - eVal))**2)\n",
    "    \n",
    "    \n",
    "\n",
    "\n",
    "\n",
    "\n"
   ]
  },
  {
   "cell_type": "code",
   "execution_count": 6,
   "id": "c21ec97f-ffb1-4945-808a-891e6c32e448",
   "metadata": {},
   "outputs": [
    {
     "name": "stdout",
     "output_type": "stream",
     "text": [
      "d =  [1.07512696 0.79924677]\n",
      "eigenvalue =  0.39999775723762787\n"
     ]
    }
   ],
   "source": [
    "dStart = np.array([1.0, 1.0])\n",
    "d = downhill(f, dStart, 0.1)\n",
    "print(\"d = \", d)\n",
    "print(\"eigenvalue = \", eVal)"
   ]
  },
  {
   "cell_type": "code",
   "execution_count": null,
   "id": "59b19e5f-ab56-4838-8a67-5cea6ef9b89c",
   "metadata": {},
   "outputs": [],
   "source": []
  },
  {
   "cell_type": "code",
   "execution_count": null,
   "id": "24e7ea10-fb17-41c5-9a1f-e64e0ea741dc",
   "metadata": {},
   "outputs": [],
   "source": [
    " "
   ]
  },
  {
   "cell_type": "code",
   "execution_count": null,
   "id": "10ceb421-25c6-4490-8153-e9095cf80f95",
   "metadata": {},
   "outputs": [],
   "source": []
  },
  {
   "cell_type": "code",
   "execution_count": null,
   "id": "1adb8051-ed5c-4f5f-b20c-251b74d0e497",
   "metadata": {},
   "outputs": [],
   "source": []
  }
 ],
 "metadata": {
  "kernelspec": {
   "display_name": "Python 3 (ipykernel)",
   "language": "python",
   "name": "python3"
  },
  "language_info": {
   "codemirror_mode": {
    "name": "ipython",
    "version": 3
   },
   "file_extension": ".py",
   "mimetype": "text/x-python",
   "name": "python",
   "nbconvert_exporter": "python",
   "pygments_lexer": "ipython3",
   "version": "3.9.7"
  }
 },
 "nbformat": 4,
 "nbformat_minor": 5
}
