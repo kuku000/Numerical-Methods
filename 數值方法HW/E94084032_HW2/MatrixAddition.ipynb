{
 "cells": [
  {
   "cell_type": "code",
   "execution_count": 5,
   "id": "5204c6fb-6999-4e00-857a-c14ea1a8df72",
   "metadata": {
    "tags": []
   },
   "outputs": [],
   "source": [
    "import math\n",
    "def matrix_add(a,b):                            #define matrix_add\n",
    "    addible =False                              #define addible=false first\n",
    "    column=len(a)                               #let column be (a) length\n",
    "    row=len(a[0])                               #let row be the row of the matrix\n",
    "    result=[[0]*row for _ in range(column)]     # make a empty matrix which is same type as (a)\n",
    "    if len(a)==len(b) and len(a[0])==len(b[0]): #check (a)'s type = (b)'s type \n",
    "        addible =True                           # if (a)'s type = (b)'s type =>addible =True\n",
    "        for i in range(len(a)):                 # put (a)+(b) into  result\n",
    "            for j in range(len(a[0])):\n",
    "                result[i][j]=a[i][j]+b[i][j]\n",
    "                gg=result\n",
    "        return addible,gg                       #return\n",
    "    else:\n",
    "        print('Matrix dimensions are not compatible for addition')  #if (a)'s type != (b)'s type\n",
    "        return addible,result                   #return\n",
    "        \n",
    "    \n",
    "    \n",
    "    "
   ]
  },
  {
   "cell_type": "code",
   "execution_count": 6,
   "id": "ea2caab4-79bc-4981-a2dc-18e935f4e305",
   "metadata": {},
   "outputs": [
    {
     "name": "stdout",
     "output_type": "stream",
     "text": [
      "[[3, 5, 4], [7, 10, 7]]\n"
     ]
    }
   ],
   "source": [
    "#Sample Run 1\n",
    "\n",
    "a = [[2,3,1],[4,6,2]]\n",
    "b = [[1,2,3],[3,4,5]]\n",
    "addible, c=matrix_add(a,b)\n",
    "if addible: print(c)\n"
   ]
  },
  {
   "cell_type": "code",
   "execution_count": 7,
   "id": "2567d964-adb2-4c7e-849f-2439a79a64fb",
   "metadata": {},
   "outputs": [
    {
     "name": "stdout",
     "output_type": "stream",
     "text": [
      "Matrix dimensions are not compatible for addition\n"
     ]
    }
   ],
   "source": [
    "#Sample Run 2\n",
    "\n",
    "a = [[2,3,1],[4,6,2]]\n",
    "b = [[1,2],[3,4]]\n",
    "addible, c = matrix_add(a,b)\n",
    "if addible: print(c)"
   ]
  },
  {
   "cell_type": "code",
   "execution_count": 8,
   "id": "9b00e7ca-1da7-4207-9e20-89cda4601f77",
   "metadata": {},
   "outputs": [
    {
     "name": "stdout",
     "output_type": "stream",
     "text": [
      "Matrix dimensions are not compatible for addition\n"
     ]
    }
   ],
   "source": [
    "#Sample Run 3\n",
    "\n",
    "a = [[2,3,1],[4,6,2]]\n",
    "b = [[1,2],[3,4],[3,4]]\n",
    "addible, c = matrix_add(a,b)\n",
    "if addible: print(c)"
   ]
  },
  {
   "cell_type": "code",
   "execution_count": null,
   "id": "81233ce5-dabb-47b5-a061-b9850249ed7c",
   "metadata": {},
   "outputs": [],
   "source": []
  }
 ],
 "metadata": {
  "kernelspec": {
   "display_name": "Python 3 (ipykernel)",
   "language": "python",
   "name": "python3"
  },
  "language_info": {
   "codemirror_mode": {
    "name": "ipython",
    "version": 3
   },
   "file_extension": ".py",
   "mimetype": "text/x-python",
   "name": "python",
   "nbconvert_exporter": "python",
   "pygments_lexer": "ipython3",
   "version": "3.9.7"
  }
 },
 "nbformat": 4,
 "nbformat_minor": 5
}
