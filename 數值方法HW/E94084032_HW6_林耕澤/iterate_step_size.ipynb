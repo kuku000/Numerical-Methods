{
 "cells": [
  {
   "cell_type": "code",
   "execution_count": 3,
   "id": "910e231e-7dd1-46cc-b540-7f927d20405d",
   "metadata": {},
   "outputs": [
    {
     "data": {
      "image/png": "[encoded data removed]",
      "text/plain": [
       "<Figure size 864x576 with 1 Axes>"
      ]
     },
     "metadata": {
      "needs_background": "light"
     },
     "output_type": "display_data"
    }
   ],
   "source": [
    "import numpy as np\n",
    "import matplotlib.pyplot as plt\n",
    "plt.style.use(\"seaborn-poster\")\n",
    "%matplotlib inline\n",
    "\n",
    "# 定義 step size\n",
    "h = 1\n",
    "# 定義 iterations次數  \n",
    "iterations = 15\n",
    "# 儲存step sizes的list\n",
    "step_size = []\n",
    "# 儲存max error for each step size的list\n",
    "max_error = []\n",
    "\n",
    "#得到 cos(x)的函式 \n",
    "def Cos(x):\n",
    "    return np.cos(x)\n",
    "#實現 central differences的函式\n",
    "def central_diff(x,h):\n",
    "    return((Cos(x+h)- Cos(x-h))/(2*h))\n",
    "\n",
    " \n",
    "\n",
    "for i in range(iterations):\n",
    "    # 將step size除半\n",
    "    h /= 2\n",
    "    # 儲存本次step size\n",
    "    step_size.append(h)\n",
    "    # 計算間格及定義每1為一格  \n",
    "    x = np.arange(0, 2 * np.pi, h)\n",
    "    \n",
    "   # y = np.cos(x)\n",
    "    #把計算出來central differences的陣列給Central_diff(方便) \n",
    "    Central_diff = central_diff(x,h) \n",
    "     \n",
    "     \n",
    "    #定義exact solution\n",
    "    exact_solution = -np.sin(x)\n",
    "    #計算每次iteration的最大誤差，再存入max_error list\n",
    "    max_error.append(max(abs(exact_solution -  Central_diff)))\n",
    "    # 製造 log-log的圖 ( max error v.s. step size)\n",
    "plt.figure(figsize = (12, 8))\n",
    "plt.xlabel(\"step size\") \n",
    "plt.ylabel(\"max error\")\n",
    "plt.loglog(step_size, max_error, \"v\")\n",
    "plt.show()"
   ]
  },
  {
   "cell_type": "code",
   "execution_count": null,
   "id": "062fe72f-8205-4487-b7cd-8069a43178fe",
   "metadata": {},
   "outputs": [],
   "source": []
  },
  {
   "cell_type": "code",
   "execution_count": null,
   "id": "21bd863a-58b1-4594-92e5-5bb1c25b2e46",
   "metadata": {},
   "outputs": [],
   "source": []
  }
 ],
 "metadata": {
  "kernelspec": {
   "display_name": "Python 3 (ipykernel)",
   "language": "python",
   "name": "python3"
  },
  "language_info": {
   "codemirror_mode": {
    "name": "ipython",
    "version": 3
   },
   "file_extension": ".py",
   "mimetype": "text/x-python",
   "name": "python",
   "nbconvert_exporter": "python",
   "pygments_lexer": "ipython3",
   "version": "3.9.7"
  }
 },
 "nbformat": 4,
 "nbformat_minor": 5
}
