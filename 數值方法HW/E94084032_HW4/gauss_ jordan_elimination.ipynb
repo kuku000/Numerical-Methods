{
 "cells": [
  {
   "cell_type": "code",
   "execution_count": 1,
   "id": "fb217a3c-1167-4d17-854c-0162599872a2",
   "metadata": {},
   "outputs": [],
   "source": [
    "import numpy as np\n",
    "\n",
    "def gauss_jordan_elimination(a,b):\n",
    "    print(\"diagonal matrix:\")\n",
    "    A=a.astype(float)  #轉成浮點數矩陣\n",
    "    B=b.astype(float) \n",
    "    \n",
    "    n = len(A)  #A陣列的column數\n",
    "############################################################    \n",
    "    for i in range(1,n):\n",
    "        for j in range(i,n): \n",
    "            G = A[j][i-1]/A[i-1][i-1]      # 計算要消掉的倍數 \n",
    "            for k in range(i-1,n):        #  從i-1行開始消\n",
    "                A[j][k] = A[j][k] - A[i-1][k]* G #對A消去           \n",
    "            B[j] = B[j]-B[i-1]*G                 #對B消去\n",
    "#以上為上三角矩陣############################################\n",
    "    \n",
    "    final_M=np.zeros((n,n+1))\n",
    "    for i in range(0,n):      #將A與B結合為增廣矩陣\n",
    "        for j in range(0,n+1):\n",
    "            if(j==n):\n",
    "                final_M[i][j]=B[i]\n",
    "            else:\n",
    "                final_M[i][j]=A[i][j]\n",
    "    \n",
    "    for i in range(0,n):            #再來進行削減\n",
    "        if(final_M[i][i]!= 1):      #當第A[i][i]項不等於一時,將第i列的所有值(先對自己的列化減)\n",
    "             final_M[i]=final_M[i]/final_M[i][i] \n",
    "   \n",
    "    for j in range(0,n):\n",
    "        for k in range(j,n-1):\n",
    "              final_M[j] =final_M[j]-final_M[k+1]*(final_M[j][k+1]/ final_M[k+1][k+1])#再來進行列與列之間的消去\n",
    "                \n",
    "    return final_M       \n",
    "\n",
    "\n",
    "def Find_X(x):  #得到X的function\n",
    "    \n",
    "    N=len(x)  #x矩陣大小 \n",
    "    \n",
    "    X=np.zeros(N)#建立一個全為零的矩陣\n",
    "    for i in range(0,N):#取增廣矩陣得最右邊的列為X\n",
    "        X[i]=x[i][N]\n",
    "    print(\"x:\")\n",
    "  \n",
    "    X=X.round(1)#設定小數點位數\n",
    "    X=X.tolist()#轉成list\n",
    "    print(X)    \n",
    "    \n",
    "   \n",
    "    \n",
    "    \n",
    "    \n",
    "    \n"
   ]
  },
  {
   "cell_type": "code",
   "execution_count": 2,
   "id": "9d32f550-459f-4e83-b229-77e02e36e10f",
   "metadata": {},
   "outputs": [
    {
     "name": "stdout",
     "output_type": "stream",
     "text": [
      "diagonal matrix:\n",
      "[[ 1.   0.   0.  -2.5]\n",
      " [ 0.   1.   0.   3. ]\n",
      " [-0.  -0.   1.  -0.5]]\n",
      "x:\n",
      "[-2.5, 3.0, -0.5]\n"
     ]
    }
   ],
   "source": [
    "a = np.array([[1, 2, 3],[3, 4, 5],[3, 5, 5]])\n",
    "y = np.array([2, 2, 5])\n",
    "x=gauss_jordan_elimination(a,y)\n",
    "print(x)\n",
    "Find_X(x)"
   ]
  },
  {
   "cell_type": "code",
   "execution_count": 3,
   "id": "6a277c7f-d02a-4fba-b744-67e71c0a47ae",
   "metadata": {},
   "outputs": [
    {
     "name": "stdout",
     "output_type": "stream",
     "text": [
      "diagonal matrix:\n",
      "[[ 1.   0.   0.   0.   1.4]\n",
      " [-0.   1.   0.   0.  -0.6]\n",
      " [ 0.   0.   1.   0.   1. ]\n",
      " [-0.  -0.  -0.   1.   0.2]]\n",
      "x:\n",
      "[1.4, -0.6, 1.0, 0.2]\n"
     ]
    }
   ],
   "source": [
    "a = np.array([[1, 2, 3, 4],[5, 4, 3, 2],[2, 1, 2, 4],[2, 1, 3, 4]])\n",
    "y = np.array([4, 8, 5, 6])\n",
    "x=gauss_jordan_elimination(a,y)\n",
    "print(x)\n",
    "Find_X(x)"
   ]
  },
  {
   "cell_type": "code",
   "execution_count": null,
   "id": "54782a7a-e93d-4f06-bcb2-521f9aba9a2e",
   "metadata": {},
   "outputs": [],
   "source": []
  }
 ],
 "metadata": {
  "kernelspec": {
   "display_name": "Python 3 (ipykernel)",
   "language": "python",
   "name": "python3"
  },
  "language_info": {
   "codemirror_mode": {
    "name": "ipython",
    "version": 3
   },
   "file_extension": ".py",
   "mimetype": "text/x-python",
   "name": "python",
   "nbconvert_exporter": "python",
   "pygments_lexer": "ipython3",
   "version": "3.9.7"
  }
 },
 "nbformat": 4,
 "nbformat_minor": 5
}
