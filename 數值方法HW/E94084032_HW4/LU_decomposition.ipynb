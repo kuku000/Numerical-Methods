{
 "cells": [
  {
   "cell_type": "code",
   "execution_count": 1,
   "id": "c7db098d-c644-4efb-8e61-ef3205d71a84",
   "metadata": {
    "tags": []
   },
   "outputs": [],
   "source": [
    "import numpy as np\n",
    "\n",
    "def LU(A,B):\n",
    "    A=A.astype(float)#先轉成浮點數\n",
    "    B=B.astype(float)\n",
    "    n = len(A)       #A的長度\n",
    "\n",
    "    L=np.zeros((n,n)) #造一個空矩陣\n",
    "    for i in range(0,n):    #造一個對角矩陣\n",
    "        for j in range(0, n):*\n",
    "            if i==j:        #如果在對角線上則為一\n",
    "                L[j][i]=1\n",
    "            else:\n",
    "                L[j][i]=0   #不是則為零\n",
    "    for i in range(1,n):    #計算上三角矩陣\\與下三角矩陣\n",
    "        for j in range(i,n):        \n",
    "            G = A[j][i-1]/A[i-1][i-1]#計算行間的倍率差\n",
    "            L[j][i-1]=G              #將倍率丟進下三角\n",
    "            for k in range(i-1,n): \n",
    "                A[j][k] = A[j][k] - A[i-1][k]* G #計算上三角矩陣\n",
    "            B[j] = B[j]-B[i-1]*G                 #計算上三角矩陣中的Y\n",
    "    U=A.round(1)  #控制上矩陣小數點位數為小數點後一位\n",
    "    L=L.round(1)  #控制下矩陣小數點位數為小數點後一位\n",
    "    print('u_matrix:')#列印上與下三角矩陣\n",
    "    print(U)\n",
    "    print('l_matrix:')\n",
    "    print(L)\n",
    "    \n",
    "    return [U,L]  #以list方式回傳\n",
    "\n",
    "\n",
    "def Sol(U,L,y):             #輸出X的function\n",
    "    X=np.linalg.inv(L).dot(y) #下矩陣dot y\n",
    "    Z=np.linalg.inv(U).dot(X) #上矩陣再去dot他們 \n",
    "    Z=Z.round(1).tolist()     #轉成list\n",
    "    print(\"x:\")\n",
    "    print(Z)"
   ]
  },
  {
   "cell_type": "code",
   "execution_count": 2,
   "id": "1eef7d65-0428-4488-8aff-16115ddb45e8",
   "metadata": {},
   "outputs": [
    {
     "name": "stdout",
     "output_type": "stream",
     "text": [
      "u_matrix:\n",
      "[[ 1.  2.  3.]\n",
      " [ 0. -2. -4.]\n",
      " [ 0.  0. -2.]]\n",
      "l_matrix:\n",
      "[[1.  0.  0. ]\n",
      " [3.  1.  0. ]\n",
      " [3.  0.5 1. ]]\n",
      "x:\n",
      "[-2.5, 3.0, -0.5]\n"
     ]
    }
   ],
   "source": [
    "a = np.array([[1, 2, 3],[3, 4, 5],[3, 5, 5]])\n",
    "y = np.array([2, 2, 5])\n",
    "U,L=LU(a,y)\n",
    "Sol(U,L,y)\n",
    " \n",
    "    "
   ]
  },
  {
   "cell_type": "code",
   "execution_count": 3,
   "id": "f5600d64-22fe-49d2-98be-fa43c4083a52",
   "metadata": {},
   "outputs": [
    {
     "name": "stdout",
     "output_type": "stream",
     "text": [
      "u_matrix:\n",
      "[[  1.    2.    3.    4. ]\n",
      " [  0.   -6.  -12.  -18. ]\n",
      " [  0.    0.    2.    5. ]\n",
      " [  0.    0.    0.   -2.5]]\n",
      "l_matrix:\n",
      "[[1.  0.  0.  0. ]\n",
      " [5.  1.  0.  0. ]\n",
      " [2.  0.5 1.  0. ]\n",
      " [2.  0.5 1.5 1. ]]\n",
      "x:\n",
      "[1.4, -0.6, 1.0, 0.2]\n"
     ]
    }
   ],
   "source": [
    "a = np.array([[1, 2, 3, 4],[5, 4, 3, 2],[2, 1, 2, 4],[2, 1, 3, 4]])\n",
    "y = np.array([4, 8, 5, 6])\n",
    "U,L=LU(a,y)\n",
    "Sol(U,L,y)\n",
    " "
   ]
  },
  {
   "cell_type": "code",
   "execution_count": null,
   "id": "1966248e-f56e-4d8e-ae32-02238833c976",
   "metadata": {},
   "outputs": [],
   "source": [
    "a = np.array([[1, 2, 3, 4],[5, 4, 3, 2],[2, 1, 2, 4],[2, 1, 3, 4]])\n",
    "y = np.array([4, 8, 5, 6])\n",
    "U,L=LU(a,y)\n",
    "Sol(U,L,y)"
   ]
  }
 ],
 "metadata": {
  "kernelspec": {
   "display_name": "Python 3 (ipykernel)",
   "language": "python",
   "name": "python3"
  },
  "language_info": {
   "codemirror_mode": {
    "name": "ipython",
    "version": 3
   },
   "file_extension": ".py",
   "mimetype": "text/x-python",
   "name": "python",
   "nbconvert_exporter": "python",
   "pygments_lexer": "ipython3",
   "version": "3.9.7"
  }
 },
 "nbformat": 4,
 "nbformat_minor": 5
}
