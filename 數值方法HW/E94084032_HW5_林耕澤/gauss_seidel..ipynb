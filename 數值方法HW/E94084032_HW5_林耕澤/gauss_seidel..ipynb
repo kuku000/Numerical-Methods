{
 "cells": [
  {
   "cell_type": "code",
   "execution_count": 2,
   "id": "4536c700-0199-496a-9505-e201041ab538",
   "metadata": {
    "tags": []
   },
   "outputs": [],
   "source": [
    "import numpy as np\n",
    "\n",
    "def Guess_Seidel(a,y):\n",
    "    a=a.astype(float)           #將a,y矩陣轉成float形式\n",
    "    y=y.astype(float)\n",
    "    \n",
    "    N=a.shape[0]                #a矩陣row的大小\n",
    "    column=a.shape[1]           #column的大小\n",
    "    N_1=y.shape[0]              #y矩陣row的大小\n",
    "    x=np.zeros(N_1).astype(float)#製造一個與y矩陣一樣大的零矩陣當作x(x的初始化)\n",
    "    \n",
    "    Z=Dominate(a,N,column)       #呼叫Dominate()判斷是否為diagonally dominant\n",
    "    if Z==0:                     #回傳值為零表示為非diagonally dominant\n",
    "        return str(\"Error,It's not diagonally dominant\") \n",
    "    else:                        #回傳值不為零表示為diagonally dominant可進行Guess_Seidel\n",
    "        print(\"Iteration results\")#標題\n",
    "        print(\"k,   \",end='')     #遞迴次數標題\n",
    "        \n",
    "        for i in range(0,N_1):    #x1,x2,x3.........有幾個就印幾個\n",
    "            print('x{:x<1d},      '.format(i+1),end='')\n",
    "        print(\"\\n\")               #換行\n",
    "        counter=1                 #計數值初始化為一\n",
    "        for i in range(25):       #最多進行25次\n",
    "            temp=x.copy()         #將上一次x中的值暫存在temp(之後比較用)\n",
    "            x=Seidel(a,x,y,N)     #呼叫Seidel()開始進行計算\n",
    "            print(\"{:<2d}\".format(i+1),\" \",end='' )#印出遞迴次數\n",
    "            for i in range(N):                     \n",
    "                print(\"{:.4f}\".format(x[i]),\"  \",end='')#印出該次遞迴的結果\n",
    "            print(\"\\n\")           #換行\n",
    "            counter+=1            #每進行完一次遞迴，計數值+1\n",
    "            if Epsilon(x,temp,N)==True:   #呼叫Epsilon去計算該次與前一次數值是否相差在0.0001以內，如果是則印出最後一次的結果，以及印出Converged!\n",
    "                print(\"{:<2d}\".format(counter),\" \",end='' )\n",
    "                for i in range(N):\n",
    "                    print(\"{:.4f}\".format(x[i]),\"  \",end='')\n",
    "                print(\"\\n\")\n",
    "                print(\"Converged!\")\n",
    "                \n",
    "                return str()\n",
    "            \n",
    "        \n",
    "    \n",
    "    \n",
    "                  \n",
    "                \n",
    "def Seidel(a,x,y,N):\n",
    "                             \n",
    "    \n",
    "    for j in range(0, N):  \n",
    "        P = y[j]          #先將y裡的值暫存至P       \n",
    "        for i in range(0, N):     \n",
    "            if(j != i):   #當行不等列時，把P的值減去該元素乘以該row的x的值\n",
    "                P-=a[j][i] * x[i]\n",
    "              \n",
    "        x[j] = P/a[j][j]  #在將結果除以該行對角線上元素，存回x，結束這一次的遞迴\n",
    "          \n",
    "    return x              #回傳x中的值               \n",
    "             \n",
    "            \n",
    "def Dominate(a,N,column):#判斷是否為diagonally dominant\n",
    "    Trace=0              #斜對角總和初始化\n",
    "    Side=0               #其他邊邊的數值總和初始化\n",
    "    \n",
    "    for i in range(0,column):  #加總對角線數值\n",
    "        for j in range(0,N):\n",
    "            if i==j:           #如果行等於列   \n",
    "                Trace+=abs(a[i][j]) #將其數值得絕對值加起來\n",
    "                \n",
    "    for i in range(0,column): #加總對角線以外的數\n",
    "        for j in range(0,N): \n",
    "            if i!=j:          #當行不等於列\n",
    "                Side+=abs(a[i][j]) #將其數值得絕對值加起來\n",
    "                \n",
    "    if Trace<Side: #如果對角總和小於邊邊總和=>不是diagonally dominant，回傳零\n",
    "        return 0\n",
    "    else:          #其他是diagonally dominant，回傳一\n",
    "        return 1\n",
    "            \n",
    "\n",
    "def Epsilon(x,temp,N):\n",
    "    for i in range(0,N):\n",
    "        if float(x[i]-temp[i])>0.0001:#如果x中有值與上一次比較相差大於0.0001，則return False(繼續進行遞迴)\n",
    "            return False\n",
    "    return True\n",
    "            \n",
    "                \n",
    "        \n",
    "  \n",
    "        "
   ]
  },
  {
   "cell_type": "code",
   "execution_count": 3,
   "id": "b82fecb0-300b-4b36-bdc4-792b90994372",
   "metadata": {},
   "outputs": [
    {
     "name": "stdout",
     "output_type": "stream",
     "text": [
      "Iteration results\n",
      "k,   x1,      x2,      x3,      \n",
      "\n",
      "1   1.7500   -1.0625   -0.7937   \n",
      "\n",
      "2   1.9836   -1.6170   -0.5866   \n",
      "\n",
      "3   2.3385   -1.5762   -0.7134   \n",
      "\n",
      "4   2.2706   -1.6385   -0.6619   \n",
      "\n",
      "5   2.3211   -1.6190   -0.6868   \n",
      "\n",
      "6   2.3019   -1.6298   -0.6757   \n",
      "\n",
      "7   2.3115   -1.6252   -0.6809   \n",
      "\n",
      "8   2.3073   -1.6274   -0.6785   \n",
      "\n",
      "9   2.3092   -1.6264   -0.6796   \n",
      "\n",
      "10  2.3083   -1.6268   -0.6791   \n",
      "\n",
      "11  2.3088   -1.6266   -0.6793   \n",
      "\n",
      "12  2.3086   -1.6267   -0.6792   \n",
      "\n",
      "13  2.3087   -1.6267   -0.6793   \n",
      "\n",
      "14  2.3087   -1.6267   -0.6793   \n",
      "\n",
      "Converged!\n"
     ]
    },
    {
     "data": {
      "text/plain": [
       "''"
      ]
     },
     "execution_count": 3,
     "metadata": {},
     "output_type": "execute_result"
    }
   ],
   "source": [
    "a = np.array([[8, 4, -3], [-2, -8, 5], [3, 5, 10]])\n",
    "y = np.array([14, 5, -8])\n",
    "Guess_Seidel(a,y)"
   ]
  },
  {
   "cell_type": "code",
   "execution_count": 4,
   "id": "311f04e6-f987-45b6-9987-b4ea012ecb38",
   "metadata": {},
   "outputs": [
    {
     "name": "stdout",
     "output_type": "stream",
     "text": [
      "Iteration results\n",
      "k,   x1,      x2,      x3,      \n",
      "\n",
      "1   0.8333   1.0333   -0.5179   \n",
      "\n",
      "2   0.3592   1.4389   -0.6269   \n",
      "\n",
      "3   0.2124   1.5337   -0.6441   \n",
      "\n",
      "4   0.1816   1.5501   -0.6458   \n",
      "\n",
      "5   0.1767   1.5521   -0.6458   \n",
      "\n",
      "6   0.1762   1.5522   -0.6457   \n",
      "\n",
      "7   0.1762   1.5522   -0.6457   \n",
      "\n",
      "Converged!\n"
     ]
    },
    {
     "data": {
      "text/plain": [
       "''"
      ]
     },
     "execution_count": 4,
     "metadata": {},
     "output_type": "execute_result"
    }
   ],
   "source": [
    "a = np.array([[12, 3, -5], [1, 5, 3], [3, 7, 13]])\n",
    "y = np.array([10, 6, 3])\n",
    "Guess_Seidel(a,y)"
   ]
  },
  {
   "cell_type": "code",
   "execution_count": 5,
   "id": "b6e24102-5c09-43f4-ae91-1a0e4f2c3930",
   "metadata": {},
   "outputs": [
    {
     "data": {
      "text/plain": [
       "\"Error,It's not diagonally dominant\""
      ]
     },
     "execution_count": 5,
     "metadata": {},
     "output_type": "execute_result"
    }
   ],
   "source": [
    "a = np.array([[2,1,2], [1, 3, 2], [2, 4, 1]])\n",
    "y = np.array([1, 1, 1])\n",
    "Guess_Seidel(a,y)"
   ]
  },
  {
   "cell_type": "code",
   "execution_count": null,
   "id": "8d1ce2d5-ad58-4e46-9925-d0dca8874372",
   "metadata": {},
   "outputs": [],
   "source": []
  },
  {
   "cell_type": "code",
   "execution_count": null,
   "id": "900ec04e-0e10-4b04-bf59-488624a109f1",
   "metadata": {},
   "outputs": [],
   "source": []
  }
 ],
 "metadata": {
  "kernelspec": {
   "display_name": "Python 3 (ipykernel)",
   "language": "python",
   "name": "python3"
  },
  "language_info": {
   "codemirror_mode": {
    "name": "ipython",
    "version": 3
   },
   "file_extension": ".py",
   "mimetype": "text/x-python",
   "name": "python",
   "nbconvert_exporter": "python",
   "pygments_lexer": "ipython3",
   "version": "3.9.7"
  }
 },
 "nbformat": 4,
 "nbformat_minor": 5
}
