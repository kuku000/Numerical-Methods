{
 "cells": [
  {
   "cell_type": "code",
   "execution_count": 13,
   "id": "a0ddb073-35a3-48c6-9b7c-8903d7dc83c5",
   "metadata": {},
   "outputs": [],
   "source": [
    "import numpy as np\n",
    "\n",
    "\n",
    "def power_method(a,b):\n",
    "    count=0\n",
    "    a=a.astype(float)\n",
    "    \n",
    "    b=b.astype(float)\n",
    "   \n",
    "   \n",
    "    while(count<=4):\n",
    "        #Max=0\n",
    "        a=np.dot(b,a)\n",
    "        Max=abs(a).max()\n",
    "            \n",
    "        a=a/a.max()\n",
    "       # print(max)\n",
    "        count+=1\n",
    "       # print(a)\n",
    "    eigenvalue=a\n",
    "   \n",
    "    print('Eigenvalue:',Max.round(1))  \n",
    "    print('eigenvector:',eigenvalue)\n",
    "                \n",
    "        \n",
    "        \n",
    "    \n",
    "    \n",
    "    \n",
    "    "
   ]
  },
  {
   "cell_type": "code",
   "execution_count": 14,
   "id": "ebb7dba4-4af0-48be-a7ab-cdb8d28091c9",
   "metadata": {},
   "outputs": [
    {
     "name": "stdout",
     "output_type": "stream",
     "text": [
      "Eigenvalue: 4.0\n",
      "eigenvector: [0.49959317 1.        ]\n"
     ]
    }
   ],
   "source": [
    "x = np.array([1, 1])\n",
    "a = np.array([[0, 2],[2, 3]])\n",
    "power_method(x,a)\n"
   ]
  },
  {
   "cell_type": "code",
   "execution_count": 15,
   "id": "787bde5a-cb20-4b58-8afd-2ab8f74a84c9",
   "metadata": {},
   "outputs": [
    {
     "name": "stdout",
     "output_type": "stream",
     "text": [
      "Eigenvalue: 8.0\n",
      "eigenvector: [0.66666667 1.        ]\n"
     ]
    }
   ],
   "source": [
    "x = np.array([1, 1])\n",
    "a = np.array([[2, 4],[3, 6]])\n",
    "power_method(x,a)"
   ]
  },
  {
   "cell_type": "code",
   "execution_count": 16,
   "id": "26c20abc-97d3-4fba-803e-1fb16adff946",
   "metadata": {},
   "outputs": [
    {
     "name": "stdout",
     "output_type": "stream",
     "text": [
      "Eigenvalue: 6.0\n",
      "eigenvector: [0.71916823 0.8975777  1.        ]\n"
     ]
    }
   ],
   "source": [
    "x = np.array([1, 1,1])\n",
    "a = np.array([[2,1,2],[1,3,2],[2,4,1]])\n",
    "power_method(x,a)"
   ]
  },
  {
   "cell_type": "code",
   "execution_count": null,
   "id": "0589ba22-7eee-4034-b19e-110194f835f2",
   "metadata": {},
   "outputs": [],
   "source": []
  }
 ],
 "metadata": {
  "kernelspec": {
   "display_name": "Python 3 (ipykernel)",
   "language": "python",
   "name": "python3"
  },
  "language_info": {
   "codemirror_mode": {
    "name": "ipython",
    "version": 3
   },
   "file_extension": ".py",
   "mimetype": "text/x-python",
   "name": "python",
   "nbconvert_exporter": "python",
   "pygments_lexer": "ipython3",
   "version": "3.9.7"
  }
 },
 "nbformat": 4,
 "nbformat_minor": 5
}
