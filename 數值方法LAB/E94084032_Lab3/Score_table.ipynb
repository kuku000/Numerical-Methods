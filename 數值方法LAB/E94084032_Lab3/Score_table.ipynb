{
 "cells": [
  {
   "cell_type": "code",
   "execution_count": 1,
   "id": "3afeb7b4-ba26-49ec-b5cf-c2712e5949ea",
   "metadata": {},
   "outputs": [],
   "source": [
    "import numpy as np\n",
    "import random\n",
    "import statistics"
   ]
  },
  {
   "cell_type": "code",
   "execution_count": 2,
   "id": "ee5061d4-d525-4fe3-86d0-fcd6175c3954",
   "metadata": {},
   "outputs": [
    {
     "data": {
      "text/plain": [
       "[94, 90, 70, 50, 84, 74, 60, 80, 74, 98, 58, 44, 44, 92, 86, 52, 62, 48]"
      ]
     },
     "execution_count": 2,
     "metadata": {},
     "output_type": "execute_result"
    }
   ],
   "source": [
    "part_1 = []\n",
    "for i in range(0,104,6):\n",
    "    random.seed(i)\n",
    "    part_1.append(random.randrange(40, 100, 2))\n",
    "part_1"
   ]
  },
  {
   "cell_type": "code",
   "execution_count": 3,
   "id": "35e106de-bcdf-4446-83b1-438813de32f0",
   "metadata": {},
   "outputs": [
    {
     "data": {
      "text/plain": [
       "array([[94, 65, 42, 95, 53, 56],\n",
       "       [86, 33, 65, 80, 91, 81],\n",
       "       [82, 85, 47, 58, 83, 49]])"
      ]
     },
     "execution_count": 3,
     "metadata": {},
     "output_type": "execute_result"
    }
   ],
   "source": [
    "np.random.seed(41)\n",
    "part_2 = np.random.randint(30, 100, size=(3,6))\n",
    "part_2"
   ]
  },
  {
   "cell_type": "code",
   "execution_count": 4,
   "id": "9594a14f-78ba-4baa-9344-fd8a26a6cb0b",
   "metadata": {},
   "outputs": [
    {
     "name": "stdout",
     "output_type": "stream",
     "text": [
      "        score1 score2 score3 score4 score5 score6 AVG_person\n",
      "person1   94     75     53     77     65     63     71     \n",
      "person2   76     52     69     87     78     66     71     \n",
      "person3   67     88     63     56     75     49     66     \n",
      "------------------------------------------------------------\n",
      "AVG_scr   79     72     62     73     73     59     69     "
     ]
    }
   ],
   "source": [
    "X=np.empty(shape=(3,6))\n",
    "q=0\n",
    "\n",
    "for k in range (0,3,1):\n",
    "    for j in range(0,6,1):\n",
    "        X[k][j]=(part_1[q])\n",
    "        q+=1\n",
    "result_N=0.4*X+0.6*part_2\n",
    "result=np.around(result_N)\n",
    "result_2=result.tolist()\n",
    "\n",
    "person1=list() \n",
    "person2=list()\n",
    "person3=list()\n",
    "for z in range (0,6,1):\n",
    "    person1.append(result_2[0][z])\n",
    "    person2.append(result_2[1][z])\n",
    "    person3.append(result_2[2][z])\n",
    "    \n",
    "mean_1= statistics.mean(person1)\n",
    "person1.append(mean_1)\n",
    "mean_2= statistics.mean(person2)\n",
    "person2.append(mean_2)\n",
    "mean_3= statistics.mean(person3)\n",
    "person3.append(mean_3)\n",
    "\n",
    "person1=np.around(person1) \n",
    "person2=np.around(person2) \n",
    "person3=np.around(person3) \n",
    "\n",
    "print(\"       \",format('score1','6'),format('score2','6'),format('score3','6'),format('score4','6') ,format('score5','6') ,format('score6','6') ,format('AVG_person','2'))\n",
    "print(format('person1','10'),end='')\n",
    "for s in range(0,7,1):\n",
    "    print(\"{:.0f}\".format(person1[s]),\"    \",end='')\n",
    "print('\\n',end='')\n",
    "print(format('person2','10'),end='')\n",
    "for s in range(0,7,1):\n",
    "    print(\"{:.0f}\".format(person2[s]),\"    \",end='') \n",
    "print('\\n',end='') \n",
    "print(format('person3','10'),end='')\n",
    "for s in range(0,7,1):\n",
    "    print(\"{:.0f}\".format(person3[s]),\"    \",end='') \n",
    "print('\\n',end='') \n",
    "print('------------------------------------------------------------')\n",
    "print(format('AVG_scr','10'),end='')\n",
    "for s in range(0,7,1):\n",
    "    print(\"{:.0f}\".format((person1[s]+person2[s]+person3[s])/3),\"    \",end='')\n",
    "    \n"
   ]
  },
  {
   "cell_type": "code",
   "execution_count": null,
   "id": "8ec08b4c-79e5-4b67-8f7c-8993b418a4e4",
   "metadata": {},
   "outputs": [],
   "source": []
  }
 ],
 "metadata": {
  "kernelspec": {
   "display_name": "Python 3 (ipykernel)",
   "language": "python",
   "name": "python3"
  },
  "language_info": {
   "codemirror_mode": {
    "name": "ipython",
    "version": 3
   },
   "file_extension": ".py",
   "mimetype": "text/x-python",
   "name": "python",
   "nbconvert_exporter": "python",
   "pygments_lexer": "ipython3",
   "version": "3.9.7"
  }
 },
 "nbformat": 4,
 "nbformat_minor": 5
}
