{
 "cells": [
  {
   "cell_type": "code",
   "execution_count": 6,
   "id": "61234d3c-f06e-44ff-99fe-349dea6a48a6",
   "metadata": {},
   "outputs": [],
   "source": [
    "import random as rand\n",
    "import numpy as np\n",
    "class RockPaperScissors:                                                #Class 宣告     \n",
    "\n",
    "    def __init__(self):                                                 #init method 宣告 win tie lose\n",
    "        self.win=0\n",
    "        self.tie=0\n",
    "        self.lose=0\n",
    "         \n",
    "    def play(self):                                                     #play method 宣告\n",
    "       \n",
    "        print(\"Welcome to ROCK, PAPER, SCISSORS game!\")                \n",
    "        count=0\n",
    "        while(count<1):\n",
    "            x=str(input(\"Enter your move: (r)ock (p)aper, (s)cissors\"))\n",
    "            if x=='r':\n",
    "                y=0\n",
    "            elif x=='p':\n",
    "                y=1\n",
    "            elif x=='s':\n",
    "                y=2\n",
    "            else:\n",
    "                break\n",
    "            if y==0:\n",
    "                print('ROCK versus...')\n",
    "                z=rand.randint(0,2)\n",
    "                if z==0:\n",
    "                    print('ROCK')\n",
    "                    print('It is a tie!')\n",
    "                    self.tie+=1\n",
    "                elif z==1:\n",
    "                    print('PAPER')\n",
    "                    print('You lose!')\n",
    "                    self.lose+=1\n",
    "                else:\n",
    "                    print('SCISSORS')\n",
    "                    print('You win!')\n",
    "                    self.win+=1\n",
    "                    count+=1\n",
    "            elif y==1:\n",
    "                print('PAPER versus...')\n",
    "                z=rand.randint(0,2)\n",
    "                if z==0:\n",
    "                    print('ROCK')\n",
    "                    print('You win!')\n",
    "                    self.win+=1\n",
    "                    count+=1\n",
    "                elif z==1:\n",
    "                    print('PAPER')\n",
    "                    print('It is a tie!')\n",
    "                    self.tie+=1\n",
    "                else:\n",
    "                    print('SCISSORS')\n",
    "                    print('You lose!')\n",
    "                    self.lose+=1\n",
    "            else:\n",
    "                print('SCISSORS versus...')\n",
    "                z=rand.randint(0,2)\n",
    "                if z==0:\n",
    "                    print('ROCK')\n",
    "                    print('You lose!')\n",
    "                    self.lose+=1\n",
    "                   \n",
    "                elif z==1:\n",
    "                    print('PAPER')\n",
    "                    print('You win!')\n",
    "                    self.win+=1\n",
    "                    count+=1\n",
    "                else:\n",
    "                    print('SCISSORS')\n",
    "                    print('It is a tie!')\n",
    "                    self.tie+=1\n",
    "            if count==1:\n",
    "                print(\"You have\" ,self.tie,\" ties\",self.lose,\"losses and\",self.win,\" wins.\")\n",
    "                    \n",
    "                \n",
    "            \n",
    "                    \n",
    "                    \n",
    "                    \n",
    "                  \n",
    "                \n",
    "        \n",
    "        \n",
    "        \n",
    "\n",
    "        \n",
    "        \n",
    "    "
   ]
  },
  {
   "cell_type": "code",
   "execution_count": 7,
   "id": "02141c16-e872-40d2-bb3a-f121e313ad46",
   "metadata": {},
   "outputs": [
    {
     "name": "stdout",
     "output_type": "stream",
     "text": [
      "Welcome to ROCK, PAPER, SCISSORS game!\n"
     ]
    },
    {
     "name": "stdin",
     "output_type": "stream",
     "text": [
      "Enter your move: (r)ock (p)aper, (s)cissors r\n"
     ]
    },
    {
     "name": "stdout",
     "output_type": "stream",
     "text": [
      "ROCK versus...\n",
      "ROCK\n",
      "It is a tie!\n"
     ]
    },
    {
     "name": "stdin",
     "output_type": "stream",
     "text": [
      "Enter your move: (r)ock (p)aper, (s)cissors r\n"
     ]
    },
    {
     "name": "stdout",
     "output_type": "stream",
     "text": [
      "ROCK versus...\n",
      "ROCK\n",
      "It is a tie!\n"
     ]
    },
    {
     "name": "stdin",
     "output_type": "stream",
     "text": [
      "Enter your move: (r)ock (p)aper, (s)cissors r\n"
     ]
    },
    {
     "name": "stdout",
     "output_type": "stream",
     "text": [
      "ROCK versus...\n",
      "ROCK\n",
      "It is a tie!\n"
     ]
    },
    {
     "name": "stdin",
     "output_type": "stream",
     "text": [
      "Enter your move: (r)ock (p)aper, (s)cissors r\n"
     ]
    },
    {
     "name": "stdout",
     "output_type": "stream",
     "text": [
      "ROCK versus...\n",
      "ROCK\n",
      "It is a tie!\n"
     ]
    },
    {
     "name": "stdin",
     "output_type": "stream",
     "text": [
      "Enter your move: (r)ock (p)aper, (s)cissors r\n"
     ]
    },
    {
     "name": "stdout",
     "output_type": "stream",
     "text": [
      "ROCK versus...\n",
      "SCISSORS\n",
      "You win!\n",
      "You have 4  ties 0 losses and 1  wins.\n"
     ]
    }
   ],
   "source": [
    "game=RockPaperScissors()  \n",
    "game.play() \n"
   ]
  },
  {
   "cell_type": "code",
   "execution_count": null,
   "id": "babb2f37-6bfb-4fa3-8b91-dd9d9fbd12fa",
   "metadata": {},
   "outputs": [
    {
     "name": "stdout",
     "output_type": "stream",
     "text": [
      "Welcome to ROCK, PAPER, SCISSORS game!\n"
     ]
    }
   ],
   "source": [
    "game.play()"
   ]
  },
  {
   "cell_type": "code",
   "execution_count": null,
   "id": "b08a94d4-d6c3-4bc8-8b82-6355f63d08be",
   "metadata": {},
   "outputs": [],
   "source": []
  }
 ],
 "metadata": {
  "kernelspec": {
   "display_name": "Python 3 (ipykernel)",
   "language": "python",
   "name": "python3"
  },
  "language_info": {
   "codemirror_mode": {
    "name": "ipython",
    "version": 3
   },
   "file_extension": ".py",
   "mimetype": "text/x-python",
   "name": "python",
   "nbconvert_exporter": "python",
   "pygments_lexer": "ipython3",
   "version": "3.8.13"
  }
 },
 "nbformat": 4,
 "nbformat_minor": 5
}
