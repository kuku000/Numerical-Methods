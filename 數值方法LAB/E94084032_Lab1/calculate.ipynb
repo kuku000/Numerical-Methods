{
 "cells": [
  {
   "cell_type": "code",
   "execution_count": 9,
   "id": "9620f0b0-1451-420e-a1c6-6e04f434447f",
   "metadata": {},
   "outputs": [
    {
     "name": "stdin",
     "output_type": "stream",
     "text": [
      "Enter first integer: 20\n",
      "Enter second integer: 3\n"
     ]
    },
    {
     "name": "stdout",
     "output_type": "stream",
     "text": [
      "Quotient: 6 , Remainder: 2\n"
     ]
    }
   ],
   "source": [
    "x =int (input('Enter first integer:'))\n",
    "y =int (input('Enter second integer:'))\n",
    "\n",
    "print('Quotient:',int(x//y),', Remainder:',int(x%y))\n",
    "\n",
    "\n"
   ]
  },
  {
   "cell_type": "code",
   "execution_count": null,
   "id": "b272b498-7d61-47f0-80df-729759f3fc1b",
   "metadata": {},
   "outputs": [],
   "source": []
  }
 ],
 "metadata": {
  "kernelspec": {
   "display_name": "Python 3 (ipykernel)",
   "language": "python",
   "name": "python3"
  },
  "language_info": {
   "codemirror_mode": {
    "name": "ipython",
    "version": 3
   },
   "file_extension": ".py",
   "mimetype": "text/x-python",
   "name": "python",
   "nbconvert_exporter": "python",
   "pygments_lexer": "ipython3",
   "version": "3.9.7"
  }
 },
 "nbformat": 4,
 "nbformat_minor": 5
}
