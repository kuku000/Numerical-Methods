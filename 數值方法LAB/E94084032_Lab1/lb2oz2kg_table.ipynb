{
 "cells": [
  {
   "cell_type": "code",
   "execution_count": 1,
   "id": "c7106329-ccbf-4222-b311-463bade4af86",
   "metadata": {},
   "outputs": [
    {
     "name": "stdout",
     "output_type": "stream",
     "text": [
      "lb \t oz  \t kg    \n",
      " 1 \t  16 \t 0.45359\n",
      " 2 \t  32 \t 0.90718\n",
      " 3 \t  48 \t 1.36077\n",
      " 4 \t  64 \t 1.81436\n",
      " 5 \t  80 \t 2.26795\n",
      " 6 \t  96 \t 2.72154\n",
      " 7 \t 112 \t 3.17513\n",
      " 8 \t 128 \t 3.62872\n",
      " 9 \t 144 \t 4.08231\n",
      "10 \t 160 \t 4.53590\n"
     ]
    }
   ],
   "source": [
    " xx=[1,2,3,4,5,6,7,8,9,10]\n",
    "print(format('lb','2'),'\\t',format('oz','3'),'\\t',format('kg','6'))\n",
    "for x in xx:\n",
    "    print(format(x,'2'),'\\t',format(x*16,'3'),'\\t',format(x*0.45359,'6.5f'))\n",
    "    "
   ]
  },
  {
   "cell_type": "code",
   "execution_count": null,
   "id": "051a2fe3-53dc-4444-8cc6-c954d3fb6940",
   "metadata": {},
   "outputs": [],
   "source": []
  },
  {
   "cell_type": "code",
   "execution_count": null,
   "id": "e60bc6d9-3478-4467-bbf9-76a388cfc178",
   "metadata": {},
   "outputs": [],
   "source": []
  },
  {
   "cell_type": "code",
   "execution_count": null,
   "id": "2093c815-4cc5-429f-b082-09b93b076ba4",
   "metadata": {},
   "outputs": [],
   "source": []
  },
  {
   "cell_type": "code",
   "execution_count": null,
   "id": "2de25e8d-f545-4458-bd9c-0df8400acd86",
   "metadata": {},
   "outputs": [],
   "source": []
  },
  {
   "cell_type": "code",
   "execution_count": null,
   "id": "ea198ed1-0945-48e6-8a8a-3c09015d1c38",
   "metadata": {},
   "outputs": [],
   "source": []
  }
 ],
 "metadata": {
  "kernelspec": {
   "display_name": "Python 3 (ipykernel)",
   "language": "python",
   "name": "python3"
  },
  "language_info": {
   "codemirror_mode": {
    "name": "ipython",
    "version": 3
   },
   "file_extension": ".py",
   "mimetype": "text/x-python",
   "name": "python",
   "nbconvert_exporter": "python",
   "pygments_lexer": "ipython3",
   "version": "3.9.7"
  }
 },
 "nbformat": 4,
 "nbformat_minor": 5
}
