{
 "cells": [
  {
   "cell_type": "code",
   "execution_count": 5,
   "id": "105e7051-4271-4f91-b63e-9acf69b7cdba",
   "metadata": {},
   "outputs": [],
   "source": [
    "import math\n",
    "def bracket(f,x1,h):\n",
    "    c = 1.618033989 \n",
    "    f1 = f(x1)\n",
    "    x2 = x1 + h; f2 = f(x2)\n",
    "  # Determine downhill direction and change sign of h if needed\n",
    "    if f2 > f1:\n",
    "        h = -h\n",
    "        x2 = x1 + h; f2 = f(x2)\n",
    "      # Check if minimum between x1 - h and x1 + h\n",
    "        if f2 > f1: return x2,x1 - h \n",
    "  # Search loop\n",
    "    for i in range (100):    \n",
    "        h = c*h\n",
    "        x3 = x2 + h; f3 = f(x3)\n",
    "        if f3 > f2: return x1,x3\n",
    "        x1 = x2; x2 = x3\n",
    "        f1 = f2; f2 = f3\n",
    "    print(\"Bracket did not find a mimimum\")\n",
    "\n",
    "def search(f,a,b,tol=1.0e-9):\n",
    "    nIter = int(math.ceil(-2.078087*math.log(tol/abs(b-a))))\n",
    "    R = 0.618033989\n",
    "    C = 1.0 - R\n",
    "  # First telescoping\n",
    "    x1 = R*a + C*b; x2 = C*a + R*b\n",
    "    f1 = f(x1); f2 = f(x2)\n",
    "  # Main loop\n",
    "    for i in range(nIter):\n",
    "        if f1 > f2:\n",
    "            a = x1\n",
    "            x1 = x2; f1 = f2\n",
    "            x2 = C*a + R*b; f2 = f(x2)\n",
    "        else:\n",
    "            b = x2\n",
    "            x2 = x1; f2 = f1\n",
    "            x1 = R*a + C*b; f1 = f(x1)\n",
    "    if f1 < f2: return x1,f1\n",
    "    else: return x2,f2\n",
    "\n",
    "def f(y):\n",
    "    \n",
    "    H = 60\n",
    "    B = 48\n",
    "    a = B*(H-y)/H\n",
    "    b = (B-a)/2\n",
    "    A = (B+a)*y/2\n",
    "    Q_x = (a*y)*y/2 + 2*(b*y/2)*y/3\n",
    "    d = Q_x/A\n",
    "    c = y - d\n",
    "    I_x = (a*y**3)/3 + 2*(b*y**3)/12\n",
    "    I_x = I_x - A*d**2\n",
    "    S = I_x/c\n",
    "    \n",
    "    return -S   "
   ]
  },
  {
   "cell_type": "code",
   "execution_count": 6,
   "id": "f9e77786-042e-48fd-aa5f-740ed1b5dc30",
   "metadata": {},
   "outputs": [
    {
     "name": "stdout",
     "output_type": "stream",
     "text": [
      "Optimal y = 52.176273873235175\n",
      "Optimal S = 7864.430941364852\n",
      "S of triangle = 7200.0\n"
     ]
    }
   ],
   "source": [
    "a, b =bracket(f, 60, 1)\n",
    "Opti_y, Opti_f = search(f, a, b)\n",
    "Tri_S =-f(60)\n",
    "print(\"Optimal y =\", Opti_y)\n",
    "print(\"Optimal S =\", -Opti_f)\n",
    "print(\"S of triangle =\",Tri_S)"
   ]
  },
  {
   "cell_type": "code",
   "execution_count": null,
   "id": "06224f06-936c-437b-8d9f-928db18e60f9",
   "metadata": {},
   "outputs": [],
   "source": [
    " \n",
    " "
   ]
  },
  {
   "cell_type": "code",
   "execution_count": null,
   "id": "3d0b4263-d2ed-4a7f-9c1c-b7b8dc0a133b",
   "metadata": {},
   "outputs": [],
   "source": [
    " "
   ]
  },
  {
   "cell_type": "code",
   "execution_count": null,
   "id": "76d01175-8c1f-42e6-8929-93828b62718c",
   "metadata": {},
   "outputs": [],
   "source": []
  }
 ],
 "metadata": {
  "kernelspec": {
   "display_name": "Python 3 (ipykernel)",
   "language": "python",
   "name": "python3"
  },
  "language_info": {
   "codemirror_mode": {
    "name": "ipython",
    "version": 3
   },
   "file_extension": ".py",
   "mimetype": "text/x-python",
   "name": "python",
   "nbconvert_exporter": "python",
   "pygments_lexer": "ipython3",
   "version": "3.9.7"
  }
 },
 "nbformat": 4,
 "nbformat_minor": 5
}
