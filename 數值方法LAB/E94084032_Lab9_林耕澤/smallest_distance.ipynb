{
 "cells": [
  {
   "cell_type": "code",
   "execution_count": 25,
   "id": "6ff2a40a-0fe2-445c-80c8-e35c38402e7d",
   "metadata": {},
   "outputs": [],
   "source": [
    "import math\n",
    "import numpy as np\n",
    "def bracket(f,x1,h):\n",
    "    c = 1.618033989 \n",
    "    f1 = f(x1)\n",
    "    x2 = x1 + h; f2 = f(x2)\n",
    "  # Determine downhill direction and change sign of h if needed\n",
    "    if f2 > f1:\n",
    "        h = -h\n",
    "        x2 = x1 + h; f2 = f(x2)\n",
    "      # Check if minimum between x1 - h and x1 + h\n",
    "        if f2 > f1: return x2,x1 - h \n",
    "  # Search loop\n",
    "    for i in range (100):    \n",
    "        h = c*h\n",
    "        x3 = x2 + h; f3 = f(x3)\n",
    "        if f3 > f2: return x1,x3\n",
    "        x1 = x2; x2 = x3\n",
    "        f1 = f2; f2 = f3\n",
    "    print(\"Bracket did not find a mimimum\")\n",
    "\n",
    "def search(f,a,b,tol=1.0e-9):\n",
    "    nIter = int(math.ceil(-2.078087*math.log(tol/abs(b-a))))\n",
    "    R = 0.618033989\n",
    "    C = 1.0 - R\n",
    "  # First telescoping\n",
    "    x1 = R*a + C*b; x2 = C*a + R*b\n",
    "    f1 = f(x1); f2 = f(x2)\n",
    "  # Main loop\n",
    "    for i in range(nIter):\n",
    "        if f1 > f2:\n",
    "            a = x1\n",
    "            x1 = x2; f1 = f2\n",
    "            x2 = C*a + R*b; f2 = f(x2)\n",
    "        else:\n",
    "            b = x2\n",
    "            x2 = x1; f2 = f1\n",
    "            x1 = R*a + C*b; f1 = f(x1)\n",
    "    if f1 < f2: return x1,f1\n",
    "    else: return x2,f2"
   ]
  },
  {
   "cell_type": "code",
   "execution_count": 26,
   "id": "60b2216d-cbcc-4795-9e0f-b9ecdda82709",
   "metadata": {},
   "outputs": [],
   "source": [
    "def powell(F,x,h=0.1,tol=1.0e-6):\n",
    "    \n",
    "    def f(s): return F(x + s*v)    # F in direction of v\n",
    "\n",
    "    n = len(x)                     # Number of design variables\n",
    "    df = np.zeros(n)               # Decreases of F stored here\n",
    "    u = np.identity(n)             # Vectors v stored here by rows\n",
    "    for j in range(30):            # Allow for 30 cycles:\n",
    "        xOld = x.copy()            # Save starting point\n",
    "        fOld = F(xOld)\n",
    "      # First n line searches record decreases of F\n",
    "        for i in range(n):\n",
    "            v = u[i]\n",
    "            a,b = bracket(f,0.0,h)\n",
    "            s,fMin = search(f,a,b)\n",
    "            df[i] = fOld - fMin\n",
    "            fOld = fMin\n",
    "            x = x + s*v\n",
    "      # Last line search in the cycle    \n",
    "        v = x - xOld\n",
    "        a,b = bracket(f,0.0,h)\n",
    "        s,fLast = search(f,a,b)\n",
    "        x = x + s*v\n",
    "      # Check for convergence\n",
    "        if math.sqrt(np.dot(x-xOld,x-xOld)/n) < tol: return x,j+1\n",
    "      # Identify biggest decrease & update search directions\n",
    "        iMax = np.argmax(df)\n",
    "        for i in range(iMax,n-1):\n",
    "            u[i] = u[i+1]\n",
    "        u[n-1] = v\n",
    "    print(\"Powell did not converge\")"
   ]
  },
  {
   "cell_type": "code",
   "execution_count": 27,
   "id": "567946f9-593a-4efb-97b3-55be74102552",
   "metadata": {},
   "outputs": [],
   "source": [
    "def f(x):\n",
    "    lamda = 1\n",
    "    c_q = x[0]*x[1] - 5 \n",
    "    point_distance = (x[0]-5)**2 + (x[1]-8)**2\n",
    "    return point_distance + 1*c_q**2  "
   ]
  },
  {
   "cell_type": "code",
   "execution_count": 28,
   "id": "be92fcda-ebff-4e15-b28d-1d228130dd9b",
   "metadata": {},
   "outputs": [
    {
     "name": "stdout",
     "output_type": "stream",
     "text": [
      "Intersect point = [0.73306761 7.58776385]\n",
      "Minimum distance = 4.28679958766998\n",
      "xy = 5.562343874620907\n",
      "Number of cycles = 5\n"
     ]
    }
   ],
   "source": [
    "x = np.array([1.0, 5.0])\n",
    "x, nIter =powell(f, x)\n",
    "point_distance = (x[0]-5)**2 + (x[1]-8)**2\n",
    "print(\"Intersect point =\",x)\n",
    "print(\"Minimum distance =\",math.sqrt(point_distance))\n",
    "print(\"xy =\",x[0]*x[1])\n",
    "print(\"Number of cycles =\", nIter)"
   ]
  },
  {
   "cell_type": "code",
   "execution_count": null,
   "id": "f2c932c4-9e17-4646-8ff8-d934b9e81bb9",
   "metadata": {},
   "outputs": [],
   "source": []
  }
 ],
 "metadata": {
  "kernelspec": {
   "display_name": "Python 3 (ipykernel)",
   "language": "python",
   "name": "python3"
  },
  "language_info": {
   "codemirror_mode": {
    "name": "ipython",
    "version": 3
   },
   "file_extension": ".py",
   "mimetype": "text/x-python",
   "name": "python",
   "nbconvert_exporter": "python",
   "pygments_lexer": "ipython3",
   "version": "3.9.7"
  }
 },
 "nbformat": 4,
 "nbformat_minor": 5
}
