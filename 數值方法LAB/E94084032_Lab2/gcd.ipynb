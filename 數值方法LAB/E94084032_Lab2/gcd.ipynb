{
 "cells": [
  {
   "cell_type": "code",
   "execution_count": 13,
   "id": "4c5e37fa-ca27-46c4-a9bb-e2d44f74ef3c",
   "metadata": {},
   "outputs": [],
   "source": [
    "def gcd(m:int,n:int)->int:\n",
    "    \"\"\"function of finding a greatest common divisor\"\"\"\n",
    "    if m<=0:\n",
    "        print(\"------------------------------------\")\n",
    "        print(\"Please enter a number greater than 0\")\n",
    "        print(\"------------------------------------\")\n",
    "        x=int(input(\"Enter first positive integer (m):\"))\n",
    "        y=int(input(\"Enter second positive integer (n):\"))\n",
    "        gcd(x,y)\n",
    "    else:\n",
    "        while n!=0:\n",
    "            r=m%n\n",
    "            m=n\n",
    "            n=r\n",
    "        print(\"Greatest common divisor:\",m)\n",
    "       \n",
    "    \n",
    "       "
   ]
  },
  {
   "cell_type": "code",
   "execution_count": 14,
   "id": "e5e2fca6-79c5-4345-a08a-a414b0b09604",
   "metadata": {},
   "outputs": [
    {
     "name": "stdout",
     "output_type": "stream",
     "text": [
      "Greatest common divisor: 8\n"
     ]
    }
   ],
   "source": [
    "gcd(1304,560)"
   ]
  },
  {
   "cell_type": "code",
   "execution_count": 16,
   "id": "49dc3626-d5c0-44a4-a41e-8257e837b4dc",
   "metadata": {},
   "outputs": [
    {
     "name": "stdout",
     "output_type": "stream",
     "text": [
      "------------------------------------\n",
      "Please enter a number greater than 0\n",
      "------------------------------------\n"
     ]
    },
    {
     "name": "stdin",
     "output_type": "stream",
     "text": [
      "Enter first positive integer (m): 376\n",
      "Enter second positive integer (n): 5\n"
     ]
    },
    {
     "name": "stdout",
     "output_type": "stream",
     "text": [
      "Greatest common divisor: 1\n"
     ]
    }
   ],
   "source": [
    "gcd(0,560)"
   ]
  },
  {
   "cell_type": "code",
   "execution_count": 17,
   "id": "49c7ee7d-a4cb-4a49-b020-091c83192f96",
   "metadata": {},
   "outputs": [
    {
     "data": {
      "text/plain": [
       "\u001b[1;31mSignature:\u001b[0m \u001b[0mgcd\u001b[0m\u001b[1;33m(\u001b[0m\u001b[0mm\u001b[0m\u001b[1;33m:\u001b[0m \u001b[0mint\u001b[0m\u001b[1;33m,\u001b[0m \u001b[0mn\u001b[0m\u001b[1;33m:\u001b[0m \u001b[0mint\u001b[0m\u001b[1;33m)\u001b[0m \u001b[1;33m->\u001b[0m \u001b[0mint\u001b[0m\u001b[1;33m\u001b[0m\u001b[1;33m\u001b[0m\u001b[0m\n",
       "\u001b[1;31mDocstring:\u001b[0m function of finding a greatest common divisor\n",
       "\u001b[1;31mFile:\u001b[0m      c:\\users\\kyle\\appdata\\local\\temp\\ipykernel_14928\\1396732120.py\n",
       "\u001b[1;31mType:\u001b[0m      function\n"
      ]
     },
     "metadata": {},
     "output_type": "display_data"
    }
   ],
   "source": [
    "?gcd"
   ]
  },
  {
   "cell_type": "code",
   "execution_count": null,
   "id": "904a3b55-e320-4d60-b8cf-1175a3f28ba5",
   "metadata": {},
   "outputs": [],
   "source": []
  }
 ],
 "metadata": {
  "kernelspec": {
   "display_name": "Python 3 (ipykernel)",
   "language": "python",
   "name": "python3"
  },
  "language_info": {
   "codemirror_mode": {
    "name": "ipython",
    "version": 3
   },
   "file_extension": ".py",
   "mimetype": "text/x-python",
   "name": "python",
   "nbconvert_exporter": "python",
   "pygments_lexer": "ipython3",
   "version": "3.9.7"
  }
 },
 "nbformat": 4,
 "nbformat_minor": 5
}
