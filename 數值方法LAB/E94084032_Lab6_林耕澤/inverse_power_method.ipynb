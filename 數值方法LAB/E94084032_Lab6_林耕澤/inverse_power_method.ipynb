{
 "cells": [
  {
   "cell_type": "code",
   "execution_count": 1,
   "id": "8c4d7d82-924c-4a64-a1b4-76cd031f53d1",
   "metadata": {},
   "outputs": [],
   "source": [
    "import numpy as np\n",
    " \n",
    "\n",
    "def Inverse_power_method(x,y):\n",
    "    count=0\n",
    "    a=x.astype(float)\n",
    "    y=y.astype(float)\n",
    "    b=np.linalg.inv(y) \n",
    "     \n",
    "    while(count<=50):\n",
    "        \n",
    "        a=b.dot(a)\n",
    "         \n",
    "        Max=abs(a).max()\n",
    "        for i in range(len(a)):\n",
    "            if abs(a[i])==Max:\n",
    "                Real_max=a[i]\n",
    "                \n",
    "        a=a/Real_max\n",
    "        \n",
    "        count+=1\n",
    "       \n",
    "    eigenvector=a\n",
    "   \n",
    "    print('The Minimum Eigenvalue:',1/Real_max)  \n",
    "    print('Eigenvector:',eigenvector)"
   ]
  },
  {
   "cell_type": "code",
   "execution_count": 2,
   "id": "df0bb349-6d38-4d93-8a5c-194fafa7d1c5",
   "metadata": {},
   "outputs": [
    {
     "name": "stdout",
     "output_type": "stream",
     "text": [
      "The Minimum Eigenvalue: -1.0\n",
      "Eigenvector: [ 1.  -0.5]\n"
     ]
    }
   ],
   "source": [
    "x = np.array([1, 1])\n",
    "a = np.array([[0, 2],[2, 3]])\n",
    "Inverse_power_method(x,a)"
   ]
  },
  {
   "cell_type": "code",
   "execution_count": 3,
   "id": "7eecbacd-f626-43fb-9ecb-cbf16604e149",
   "metadata": {},
   "outputs": [
    {
     "name": "stdout",
     "output_type": "stream",
     "text": [
      "The Minimum Eigenvalue: -0.7958315233127194\n",
      "Eigenvector: [ 1.         -0.25654736 -0.25654736]\n"
     ]
    }
   ],
   "source": [
    "x = np.array([1, 1, 1])\n",
    "a = np.array([[1, 5, 2],[2, 4, 3],[2, 1, 6]])\n",
    "Inverse_power_method(x,a)"
   ]
  },
  {
   "cell_type": "code",
   "execution_count": null,
   "id": "79b5a66e-64b0-4f07-b494-f5116276d29d",
   "metadata": {},
   "outputs": [],
   "source": []
  }
 ],
 "metadata": {
  "kernelspec": {
   "display_name": "Python 3 (ipykernel)",
   "language": "python",
   "name": "python3"
  },
  "language_info": {
   "codemirror_mode": {
    "name": "ipython",
    "version": 3
   },
   "file_extension": ".py",
   "mimetype": "text/x-python",
   "name": "python",
   "nbconvert_exporter": "python",
   "pygments_lexer": "ipython3",
   "version": "3.9.7"
  }
 },
 "nbformat": 4,
 "nbformat_minor": 5
}
