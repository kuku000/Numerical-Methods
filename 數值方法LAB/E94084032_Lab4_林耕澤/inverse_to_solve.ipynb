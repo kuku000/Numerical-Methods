{
 "cells": [
  {
   "cell_type": "code",
   "execution_count": 6,
   "id": "68a74133-fbf1-4bdd-ad12-e6b58660c1db",
   "metadata": {},
   "outputs": [],
   "source": [
    "import numpy as np\n",
    "\n",
    "def inverse_to_solve(a,y):\n",
    "    X=len(a)\n",
    "    Z=len(a[0])\n",
    "    adj_M=np.zeros((X,Z))\n",
    "    A_inverse=np.zeros((X,Z))\n",
    "    dy_M=np.zeros((X-1,Z-1))\n",
    "    output_x=np.zeros(X)\n",
    "    #print(adj_M)\n",
    "    for i in range(0,Z):\n",
    "        for j in range(0,X):\n",
    "            dy_M=np.delete(a,i,0)\n",
    "            dy_M=np.delete(dy_M,j,1)\n",
    "            adj_M[j][i]=np.linalg.det(dy_M)*(-1)**(j+i)\n",
    "    print('adjugate matrix:')        \n",
    "    return adj_M\n",
    "    #A_inverse=adj_M/np.linalg.det(a)\n",
    "    #Y=np.array(y)\n",
    "    #print(A_inverse)\n",
    "    #output_x=A_inverse.dot(Y)\n",
    "    #final_X=output_x.round(1).tolist()\n",
    "    #print('x:')\n",
    "    #print(final_X)\n",
    "\n",
    "def final_X(a,b):\n",
    "    X=len(a)\n",
    "    Z=len(a[0])\n",
    "    adj_M=np.zeros((X,Z))\n",
    "    A_inverse=np.zeros((X,Z))\n",
    "    dy_M=np.zeros((X-1,Z-1))\n",
    "    output_x=np.zeros(X)\n",
    "    #print(adj_M)\n",
    "    for i in range(0,Z):\n",
    "        for j in range(0,X):\n",
    "            dy_M=np.delete(a,i,0)\n",
    "            dy_M=np.delete(dy_M,j,1)\n",
    "            adj_M[j][i]=np.linalg.det(dy_M)*(-1)**(j+i)\n",
    "    #print('adjugate matrix:')   \n",
    "    A_inverse=adj_M/np.linalg.det(a)\n",
    "    Y=np.array(y)\n",
    "    #print(A_inverse)\n",
    "    output_x=A_inverse.dot(Y)\n",
    "    final_X=output_x.round(1).tolist()\n",
    "    print('x:')\n",
    "    print(final_X)"
   ]
  },
  {
   "cell_type": "code",
   "execution_count": 7,
   "id": "2df3400d-e86a-48cb-8fd1-5334d59789b9",
   "metadata": {},
   "outputs": [
    {
     "name": "stdout",
     "output_type": "stream",
     "text": [
      "adjugate matrix:\n"
     ]
    },
    {
     "data": {
      "text/plain": [
       "array([[ 4., -2.],\n",
       "       [-3.,  1.]])"
      ]
     },
     "execution_count": 7,
     "metadata": {},
     "output_type": "execute_result"
    }
   ],
   "source": [
    "a = np.array([[1,2],[3,4]])\n",
    "y = [2, 5]\n",
    "\n",
    "inverse_to_solve(a,y)\n"
   ]
  },
  {
   "cell_type": "code",
   "execution_count": 8,
   "id": "74bfc9bf-18ab-4036-895d-a6ae2201e979",
   "metadata": {},
   "outputs": [
    {
     "name": "stdout",
     "output_type": "stream",
     "text": [
      "x:\n",
      "[1.0, 0.5]\n"
     ]
    }
   ],
   "source": [
    "final_X(a,y)"
   ]
  },
  {
   "cell_type": "code",
   "execution_count": 9,
   "id": "bebdcc9c-39b5-48a5-9027-cdd9de9b94d3",
   "metadata": {},
   "outputs": [
    {
     "name": "stdout",
     "output_type": "stream",
     "text": [
      "adjugate matrix:\n"
     ]
    },
    {
     "data": {
      "text/plain": [
       "array([[-5.,  5., -2.],\n",
       "       [-0., -4.,  4.],\n",
       "       [ 3.,  1., -2.]])"
      ]
     },
     "execution_count": 9,
     "metadata": {},
     "output_type": "execute_result"
    }
   ],
   "source": [
    "a = np.array([[1,2,3],[3,4,5],[3,5,5]])\n",
    "y = [2, 2, 5]\n",
    "inverse_to_solve(a,y)\n"
   ]
  },
  {
   "cell_type": "code",
   "execution_count": 10,
   "id": "aaac3f77-17f4-4450-ba98-f0beaf397115",
   "metadata": {},
   "outputs": [
    {
     "name": "stdout",
     "output_type": "stream",
     "text": [
      "x:\n",
      "[-2.5, 3.0, -0.5]\n"
     ]
    }
   ],
   "source": [
    "final_X(a,y)"
   ]
  },
  {
   "cell_type": "code",
   "execution_count": null,
   "id": "1350586a-273c-4929-a044-a298b70b8286",
   "metadata": {},
   "outputs": [],
   "source": []
  }
 ],
 "metadata": {
  "kernelspec": {
   "display_name": "Python 3 (ipykernel)",
   "language": "python",
   "name": "python3"
  },
  "language_info": {
   "codemirror_mode": {
    "name": "ipython",
    "version": 3
   },
   "file_extension": ".py",
   "mimetype": "text/x-python",
   "name": "python",
   "nbconvert_exporter": "python",
   "pygments_lexer": "ipython3",
   "version": "3.9.7"
  }
 },
 "nbformat": 4,
 "nbformat_minor": 5
}
