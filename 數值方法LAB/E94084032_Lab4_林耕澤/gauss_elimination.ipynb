{
 "cells": [
  {
   "cell_type": "code",
   "execution_count": 1,
   "id": "eb3a1b86-08d8-4779-8110-598f2b531614",
   "metadata": {},
   "outputs": [],
   "source": [
    "import numpy as np\n",
    "def Gauss_elimination(a,b):\n",
    "    A=a.tolist() \n",
    "    B=b.tolist()\n",
    "    n = len(A)\n",
    "    B_Orgin=[0] * n\n",
    "    \n",
    "    for i in range(1,n):\n",
    "        for j in range(i,n): \n",
    "            G = A[j][i-1]/A[i-1][i-1]\n",
    "            \n",
    "            for k in range(i-1,n): \n",
    "                A[j][k] = A[j][k] - A[i-1][k]* G\n",
    "                \n",
    "            B[j] = B[j]-B[i-1]*G\n",
    "\n",
    "    for q in range(0,n):\n",
    "        B_Orgin[q]=B[q]\n",
    "        \n",
    "    B[n-1] = B[n-1]/A[n-1][n-1]\n",
    "    \n",
    "    \n",
    "    for i in range(n-2,-1,-1):\n",
    "        for j in range(n-1,i,-1):\n",
    "            B[i] = B[i]- A[i][j]*B[j]\n",
    "        B[i] = B[i]/A[i][i]                 \n",
    "     \n",
    "    B_array=np.zeros([len(B_Orgin),1])\n",
    "    for t in range(0,len(B_Orgin)):\n",
    "        B_array[t][0]=B_Orgin[t]\n",
    "    B_List=B_array.tolist()\n",
    "    \n",
    "    UT_array=augMatrix(A,B_List)\n",
    "     \n",
    "    print_UT_array(UT_array,B)\n",
    "    \n",
    "    \n",
    "\n",
    "\n",
    "\n",
    "def print_UT_array(a,b):\n",
    "    matrix=np.array(a)\n",
    "    matrix_2=np.array(b)\n",
    "    print(\"upper triangular matrix:\")\n",
    "    print(matrix.round(1))\n",
    "    print(\"x:\")\n",
    "    matrix_22=matrix_2.round(1).tolist()\n",
    "    print(matrix_22)\n",
    "    \n",
    "def augMatrix(x, y):\n",
    "    return [AA + bb for AA, bb in zip(x,y)]\n",
    "\n",
    "\n"
   ]
  },
  {
   "cell_type": "code",
   "execution_count": 2,
   "id": "c97a2ec8-bc7e-4b30-b115-407be39b6fe9",
   "metadata": {},
   "outputs": [
    {
     "name": "stdout",
     "output_type": "stream",
     "text": [
      "upper triangular matrix:\n",
      "[[ 1.  2.  3.  2.]\n",
      " [ 0. -2. -4. -4.]\n",
      " [ 0.  0. -2.  1.]]\n",
      "x:\n",
      "[-2.5, 3.0, -0.5]\n"
     ]
    }
   ],
   "source": [
    "a = np.array([[1, 2, 3],[3, 4, 5],[3, 5, 5]])\n",
    "y = np.array([2, 2, 5])\n",
    "Gauss_elimination(a,y)"
   ]
  },
  {
   "cell_type": "code",
   "execution_count": 3,
   "id": "90734ea2-90f1-4505-b251-e2fdd8ed32ab",
   "metadata": {},
   "outputs": [
    {
     "name": "stdout",
     "output_type": "stream",
     "text": [
      "upper triangular matrix:\n",
      "[[  1.    2.    3.    4.    4. ]\n",
      " [  0.   -6.  -12.  -18.  -12. ]\n",
      " [  0.    0.    2.    5.    3. ]\n",
      " [  0.    0.    0.   -2.5  -0.5]]\n",
      "x:\n",
      "[1.4, -0.6, 1.0, 0.2]\n"
     ]
    }
   ],
   "source": [
    "a = np.array([[1, 2, 3, 4],[5, 4, 3, 2],[2, 1, 2, 4],[2, 1, 3, 4]])\n",
    "y = np.array([4, 8, 5, 6])\n",
    "Gauss_elimination(a,y)"
   ]
  },
  {
   "cell_type": "code",
   "execution_count": null,
   "id": "5afaf707-a14b-41af-977e-ed4f389e4e62",
   "metadata": {},
   "outputs": [],
   "source": []
  }
 ],
 "metadata": {
  "kernelspec": {
   "display_name": "Python 3 (ipykernel)",
   "language": "python",
   "name": "python3"
  },
  "language_info": {
   "codemirror_mode": {
    "name": "ipython",
    "version": 3
   },
   "file_extension": ".py",
   "mimetype": "text/x-python",
   "name": "python",
   "nbconvert_exporter": "python",
   "pygments_lexer": "ipython3",
   "version": "3.9.7"
  }
 },
 "nbformat": 4,
 "nbformat_minor": 5
}
