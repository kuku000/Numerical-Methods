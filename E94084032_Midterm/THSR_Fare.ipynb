{
 "cells": [
  {
   "cell_type": "code",
   "execution_count": 1,
   "id": "38d62c3f-6f3b-4de1-8e0a-11b4c57975c1",
   "metadata": {},
   "outputs": [
    {
     "data": {
      "text/html": [
       "<div>\n",
       "<style scoped>\n",
       "    .dataframe tbody tr th:only-of-type {\n",
       "        vertical-align: middle;\n",
       "    }\n",
       "\n",
       "    .dataframe tbody tr th {\n",
       "        vertical-align: top;\n",
       "    }\n",
       "\n",
       "    .dataframe thead th {\n",
       "        text-align: right;\n",
       "    }\n",
       "</style>\n",
       "<table border=\"1\" class=\"dataframe\">\n",
       "  <thead>\n",
       "    <tr style=\"text-align: right;\">\n",
       "      <th></th>\n",
       "      <th>Station</th>\n",
       "      <th>Nangang</th>\n",
       "      <th>Taipei</th>\n",
       "      <th>Banqiao</th>\n",
       "      <th>Taoyuan</th>\n",
       "      <th>Hsinchu</th>\n",
       "      <th>Miaoli</th>\n",
       "      <th>Taichung</th>\n",
       "      <th>Changhua</th>\n",
       "      <th>Yunlin</th>\n",
       "      <th>Chiayi</th>\n",
       "      <th>Tainan</th>\n",
       "      <th>Zuoying</th>\n",
       "    </tr>\n",
       "  </thead>\n",
       "  <tbody>\n",
       "    <tr>\n",
       "      <th>0</th>\n",
       "      <td>Nangang</td>\n",
       "      <td>-</td>\n",
       "      <td>260*</td>\n",
       "      <td>310*</td>\n",
       "      <td>500</td>\n",
       "      <td>700</td>\n",
       "      <td>920</td>\n",
       "      <td>1,330</td>\n",
       "      <td>1,510</td>\n",
       "      <td>1,660</td>\n",
       "      <td>1,880</td>\n",
       "      <td>2,290</td>\n",
       "      <td>2,500</td>\n",
       "    </tr>\n",
       "    <tr>\n",
       "      <th>1</th>\n",
       "      <td>Taipei</td>\n",
       "      <td>40</td>\n",
       "      <td>-</td>\n",
       "      <td>260*</td>\n",
       "      <td>440</td>\n",
       "      <td>640</td>\n",
       "      <td>850</td>\n",
       "      <td>1,250</td>\n",
       "      <td>1,430</td>\n",
       "      <td>1,600</td>\n",
       "      <td>1,820</td>\n",
       "      <td>2,230</td>\n",
       "      <td>2,440</td>\n",
       "    </tr>\n",
       "    <tr>\n",
       "      <th>2</th>\n",
       "      <td>Banqiao</td>\n",
       "      <td>70</td>\n",
       "      <td>40</td>\n",
       "      <td>-</td>\n",
       "      <td>400</td>\n",
       "      <td>590</td>\n",
       "      <td>800</td>\n",
       "      <td>1,210</td>\n",
       "      <td>1,390</td>\n",
       "      <td>1,550</td>\n",
       "      <td>1,780</td>\n",
       "      <td>2,180</td>\n",
       "      <td>2,390</td>\n",
       "    </tr>\n",
       "    <tr>\n",
       "      <th>3</th>\n",
       "      <td>Taoyuan</td>\n",
       "      <td>200</td>\n",
       "      <td>160</td>\n",
       "      <td>130</td>\n",
       "      <td>-</td>\n",
       "      <td>400</td>\n",
       "      <td>620</td>\n",
       "      <td>1010</td>\n",
       "      <td>1,210</td>\n",
       "      <td>1,370</td>\n",
       "      <td>1,580</td>\n",
       "      <td>1,990</td>\n",
       "      <td>2,200</td>\n",
       "    </tr>\n",
       "    <tr>\n",
       "      <th>4</th>\n",
       "      <td>Hsinchu</td>\n",
       "      <td>330</td>\n",
       "      <td>290</td>\n",
       "      <td>260</td>\n",
       "      <td>130</td>\n",
       "      <td>-</td>\n",
       "      <td>410</td>\n",
       "      <td>820</td>\n",
       "      <td>1010</td>\n",
       "      <td>1,160</td>\n",
       "      <td>1,390</td>\n",
       "      <td>1,790</td>\n",
       "      <td>2,000</td>\n",
       "    </tr>\n",
       "    <tr>\n",
       "      <th>5</th>\n",
       "      <td>Miaoli</td>\n",
       "      <td>480</td>\n",
       "      <td>430</td>\n",
       "      <td>400</td>\n",
       "      <td>280</td>\n",
       "      <td>140</td>\n",
       "      <td>-</td>\n",
       "      <td>610</td>\n",
       "      <td>790</td>\n",
       "      <td>950</td>\n",
       "      <td>1,160</td>\n",
       "      <td>1,580</td>\n",
       "      <td>1,790</td>\n",
       "    </tr>\n",
       "    <tr>\n",
       "      <th>6</th>\n",
       "      <td>Taichung</td>\n",
       "      <td>750</td>\n",
       "      <td>700</td>\n",
       "      <td>670</td>\n",
       "      <td>540</td>\n",
       "      <td>410</td>\n",
       "      <td>270</td>\n",
       "      <td>-</td>\n",
       "      <td>400</td>\n",
       "      <td>550</td>\n",
       "      <td>770</td>\n",
       "      <td>1,180</td>\n",
       "      <td>1,390</td>\n",
       "    </tr>\n",
       "    <tr>\n",
       "      <th>7</th>\n",
       "      <td>Changhua</td>\n",
       "      <td>870</td>\n",
       "      <td>820</td>\n",
       "      <td>790</td>\n",
       "      <td>670</td>\n",
       "      <td>540</td>\n",
       "      <td>390</td>\n",
       "      <td>130</td>\n",
       "      <td>-</td>\n",
       "      <td>370</td>\n",
       "      <td>580</td>\n",
       "      <td>1000</td>\n",
       "      <td>1,210</td>\n",
       "    </tr>\n",
       "    <tr>\n",
       "      <th>8</th>\n",
       "      <td>Yunlin</td>\n",
       "      <td>970</td>\n",
       "      <td>930</td>\n",
       "      <td>900</td>\n",
       "      <td>780</td>\n",
       "      <td>640</td>\n",
       "      <td>500</td>\n",
       "      <td>230</td>\n",
       "      <td>110</td>\n",
       "      <td>-</td>\n",
       "      <td>430</td>\n",
       "      <td>830</td>\n",
       "      <td>1040</td>\n",
       "    </tr>\n",
       "    <tr>\n",
       "      <th>9</th>\n",
       "      <td>Chiayi</td>\n",
       "      <td>1,120</td>\n",
       "      <td>1,080</td>\n",
       "      <td>1,050</td>\n",
       "      <td>920</td>\n",
       "      <td>790</td>\n",
       "      <td>640</td>\n",
       "      <td>380</td>\n",
       "      <td>250</td>\n",
       "      <td>150</td>\n",
       "      <td>-</td>\n",
       "      <td>620</td>\n",
       "      <td>820</td>\n",
       "    </tr>\n",
       "    <tr>\n",
       "      <th>10</th>\n",
       "      <td>Tainan</td>\n",
       "      <td>1,390</td>\n",
       "      <td>1,350</td>\n",
       "      <td>1,320</td>\n",
       "      <td>1,190</td>\n",
       "      <td>1,060</td>\n",
       "      <td>920</td>\n",
       "      <td>650</td>\n",
       "      <td>530</td>\n",
       "      <td>420</td>\n",
       "      <td>280</td>\n",
       "      <td>-</td>\n",
       "      <td>410</td>\n",
       "    </tr>\n",
       "    <tr>\n",
       "      <th>11</th>\n",
       "      <td>Zuoying</td>\n",
       "      <td>1,530</td>\n",
       "      <td>1,490</td>\n",
       "      <td>1,460</td>\n",
       "      <td>1,330</td>\n",
       "      <td>1,200</td>\n",
       "      <td>1,060</td>\n",
       "      <td>790</td>\n",
       "      <td>670</td>\n",
       "      <td>560</td>\n",
       "      <td>410</td>\n",
       "      <td>140</td>\n",
       "      <td>-</td>\n",
       "    </tr>\n",
       "  </tbody>\n",
       "</table>\n",
       "</div>"
      ],
      "text/plain": [
       "     Station Nangang Taipei Banqiao Taoyuan Hsinchu Miaoli Taichung Changhua  \\\n",
       "0    Nangang       -   260*    310*     500     700    920    1,330    1,510   \n",
       "1     Taipei      40      -    260*     440     640    850    1,250    1,430   \n",
       "2    Banqiao      70     40       -     400     590    800    1,210    1,390   \n",
       "3    Taoyuan     200    160     130       -     400    620     1010    1,210   \n",
       "4    Hsinchu     330    290     260     130       -    410      820     1010   \n",
       "5     Miaoli     480    430     400     280     140      -      610      790   \n",
       "6   Taichung     750    700     670     540     410    270        -      400   \n",
       "7   Changhua     870    820     790     670     540    390      130        -   \n",
       "8     Yunlin     970    930     900     780     640    500      230      110   \n",
       "9     Chiayi   1,120  1,080   1,050     920     790    640      380      250   \n",
       "10    Tainan   1,390  1,350   1,320   1,190   1,060    920      650      530   \n",
       "11   Zuoying   1,530  1,490   1,460   1,330   1,200  1,060      790      670   \n",
       "\n",
       "   Yunlin Chiayi Tainan Zuoying  \n",
       "0   1,660  1,880  2,290   2,500  \n",
       "1   1,600  1,820  2,230   2,440  \n",
       "2   1,550  1,780  2,180   2,390  \n",
       "3   1,370  1,580  1,990   2,200  \n",
       "4   1,160  1,390  1,790   2,000  \n",
       "5     950  1,160  1,580   1,790  \n",
       "6     550    770  1,180   1,390  \n",
       "7     370    580   1000   1,210  \n",
       "8       -    430    830    1040  \n",
       "9     150      -    620     820  \n",
       "10    420    280      -     410  \n",
       "11    560    410    140       -  "
      ]
     },
     "execution_count": 1,
     "metadata": {},
     "output_type": "execute_result"
    }
   ],
   "source": [
    "import numpy as np\n",
    "import csv\n",
    "import pandas as pd\n",
    "\n",
    "dataset = pd.read_csv('tickets.csv')  #引入DATA\n",
    "dataset \n"
   ]
  },
  {
   "cell_type": "code",
   "execution_count": 2,
   "id": "5ae5d335-fe41-47c4-aebe-da106bef8eb4",
   "metadata": {},
   "outputs": [
    {
     "name": "stdout",
     "output_type": "stream",
     "text": [
      "('Nangang', 'Taipei', 'Banqiao', 'Taoyuan', 'Hsinchu', 'Miaoli', 'Taichung', 'Changhua', 'Yunlin', 'Chiayi', 'Tainan', 'Zuoying')\n"
     ]
    }
   ],
   "source": [
    "with open('tickets.csv', mode='r') as station:\n",
    "    Station = csv.reader(station)\n",
    "    station=[]\n",
    "    for cloumn in Station:\n",
    "        station.append(cloumn)\n",
    "#取CSV檔的第一列\n",
    "list_station_1 = station[0]\n",
    "#去掉第一列的第一個，因為第一個是'station'\n",
    "list_station = list_station_1[1:13]\n",
    "#用tuple方式儲存\n",
    "tuple_station = tuple(list_station)\n",
    "print(tuple_station)\n",
    "#一共有十二個站\n",
    "n =12\n",
    "northbound = {}\n",
    "#北上字典(倒著數，由南到北為北上)\n",
    "for i in range(n-1, -1, -1):\n",
    "    for j in range(i-1, -1, -1):\n",
    "        northbound[(tuple_station[i],tuple_station[j])] = [dataset.loc[i][j+1],dataset.loc[j][i+1]]\n",
    "southbound={}\n",
    "#南下字典(正著數，由北到南為南下)\n",
    "for i in range(0, n, 1):\n",
    "    for j in range(i+1, n, 1):\n",
    "        southbound[(tuple_station[i],tuple_station[j])] = [dataset.loc[j][i+1],dataset.loc[i][j+1]]\n",
    "        \n",
    "        \n",
    "  \n",
    "    "
   ]
  },
  {
   "cell_type": "code",
   "execution_count": 3,
   "id": "9f523215-a6e2-41fd-a147-556a52791989",
   "metadata": {},
   "outputs": [
    {
     "data": {
      "text/plain": [
       "['330', '700']"
      ]
     },
     "execution_count": 3,
     "metadata": {},
     "output_type": "execute_result"
    }
   ],
   "source": [
    "northbound['Hsinchu', 'Nangang'] "
   ]
  },
  {
   "cell_type": "code",
   "execution_count": 4,
   "id": "3bc9e219-b4ad-4ffc-865c-9f7039edb693",
   "metadata": {},
   "outputs": [
    {
     "data": {
      "text/plain": [
       "['970', '1,660']"
      ]
     },
     "execution_count": 4,
     "metadata": {},
     "output_type": "execute_result"
    }
   ],
   "source": [
    "southbound['Nangang', 'Yunlin']"
   ]
  },
  {
   "cell_type": "code",
   "execution_count": null,
   "id": "8bf812f6-1adc-4047-8356-66687cbddcd4",
   "metadata": {},
   "outputs": [],
   "source": [
    "#輸入兩值用逗號分開\n",
    "start, end = input('Enter your start and end stations:').split(\",\")\n",
    "\n",
    "#無視空格\n",
    "start,end = start.strip(), end.strip()\n",
    "\n",
    "def feedback(start,end):\n",
    "    #判斷是否有此站\n",
    "    if start in tuple_station:\n",
    "        find_start = True\n",
    "    elif start not in tuple_station:\n",
    "        find_start = False\n",
    "    if end in tuple_station:\n",
    "        find_end = True\n",
    "    elif end not in tuple_station:\n",
    "        find_end = False\n",
    "    #如果沒有此站    \n",
    "    if find_end == False or find_start == False:\n",
    "        print(\"The destination from\", start,\"to\", end,\"is not found\")\n",
    "        return\n",
    "    \n",
    "    #如果輸入相等\n",
    "    if start == end:\n",
    "        print(\"error!!!\")\n",
    "        return\n",
    "    \n",
    "    #如果為北上(index越大越南邊)\n",
    "    if tuple_station.index(start) > tuple_station.index(end):\n",
    "        print(\"Northbound form\", start, \"to\", end)\n",
    "        print(\"The ticket fare of Standrd Car is:\", northbound[(start, end)][0])#輸出第一個數值(一般票)\n",
    "        print(\"The ticket fare of Bisiniss Car is:\", northbound[(start, end)][1])#輸出第二個數值(商務票)\n",
    "    #如果為南下\n",
    "    elif tuple_station.index(start) < tuple_station.index(end):\n",
    "        print(\"Southbound form\", start, \"to\", end)\n",
    "        print(\"The ticket fare of Standrd Car is:\", southbound[(start, end)][0])#輸出第一個數值(一般票)\n",
    "        print(\"The ticket fare of Bisiniss Car is:\", southbound[(start, end)][1])#輸出第二個數值(商務票)\n",
    "        return\n",
    "feedback(start,end)\n",
    "\n",
    "        \n",
    "\n",
    "        \n",
    "\n",
    "    \n",
    "    \n",
    "    "
   ]
  },
  {
   "cell_type": "code",
   "execution_count": 6,
   "id": "87c961e2-ad5d-4355-951d-2d8f966bb284",
   "metadata": {},
   "outputs": [
    {
     "name": "stdin",
     "output_type": "stream",
     "text": [
      "Enter your start and end stations:  Hsinchu, Taipei\n"
     ]
    },
    {
     "name": "stdout",
     "output_type": "stream",
     "text": [
      "Northbound form Hsinchu to Taipei\n",
      "The ticket fare of Standrd Car is: 290\n",
      "The ticket fare of Bisiniss Car is: 640\n"
     ]
    }
   ],
   "source": [
    "start, end = input('Enter your start and end stations:').split(\",\")\n",
    "\n",
    "#無視空格\n",
    "start,end = start.strip(), end.strip()\n",
    "feedback(start,end)\n"
   ]
  },
  {
   "cell_type": "code",
   "execution_count": 7,
   "id": "890187f9-d365-4ca3-9b31-9dbe1cd871b8",
   "metadata": {},
   "outputs": [
    {
     "name": "stdin",
     "output_type": "stream",
     "text": [
      "Enter your start and end stations: Nangang , Taoyuan \n"
     ]
    },
    {
     "name": "stdout",
     "output_type": "stream",
     "text": [
      "Southbound form Nangang to Taoyuan\n",
      "The ticket fare of Standrd Car is: 200\n",
      "The ticket fare of Bisiniss Car is: 500\n"
     ]
    }
   ],
   "source": [
    "start, end = input('Enter your start and end stations:').split(\",\")\n",
    "\n",
    "#無視空格\n",
    "start,end = start.strip(), end.strip()\n",
    "feedback(start,end)"
   ]
  },
  {
   "cell_type": "code",
   "execution_count": 8,
   "id": "eba4d430-c6aa-4531-b489-c53dbfc0d0a9",
   "metadata": {},
   "outputs": [
    {
     "name": "stdin",
     "output_type": "stream",
     "text": [
      "Enter your start and end stations:  Taipei, USA\n"
     ]
    },
    {
     "name": "stdout",
     "output_type": "stream",
     "text": [
      "The destination from Taipei to USA is not found\n"
     ]
    }
   ],
   "source": [
    "start, end = input('Enter your start and end stations:').split(\",\")\n",
    "\n",
    "#無視空格\n",
    "start,end = start.strip(), end.strip()\n",
    "feedback(start,end)\n"
   ]
  },
  {
   "cell_type": "code",
   "execution_count": null,
   "id": "4a89afde-a6fb-4420-a8c7-6ede8dd819c0",
   "metadata": {},
   "outputs": [],
   "source": []
  }
 ],
 "metadata": {
  "kernelspec": {
   "display_name": "Python 3 (ipykernel)",
   "language": "python",
   "name": "python3"
  },
  "language_info": {
   "codemirror_mode": {
    "name": "ipython",
    "version": 3
   },
   "file_extension": ".py",
   "mimetype": "text/x-python",
   "name": "python",
   "nbconvert_exporter": "python",
   "pygments_lexer": "ipython3",
   "version": "3.9.7"
  }
 },
 "nbformat": 4,
 "nbformat_minor": 5
}
