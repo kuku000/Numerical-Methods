{
 "cells": [
  {
   "cell_type": "code",
   "execution_count": 2,
   "id": "e953c090-254a-4c23-8405-eb9210ca5cb5",
   "metadata": {},
   "outputs": [],
   "source": [
    "import numpy as np\n",
    "import matplotlib.pyplot as plt\n",
    "plt.style.use(\"seaborn-poster\")\n",
    "%matplotlib inline"
   ]
  },
  {
   "cell_type": "code",
   "execution_count": 3,
   "id": "58d97145-35a7-4ed7-ab33-e466b5a9f858",
   "metadata": {},
   "outputs": [
    {
     "name": "stdout",
     "output_type": "stream",
     "text": [
      "1.298495238395284\n"
     ]
    }
   ],
   "source": [
    "#f=m*dv/dt\n",
    "#p=fv\n",
    "a = 1 \n",
    "b = 6\n",
    "n = 7\n",
    "m= 2000\n",
    "#h =(b - a) / (n - 1)\n",
    "x =np.linspace(a, b, n)\n",
    "f = np.zeros(n+1)\n",
    "h_list = np.zeros(n)\n",
    "#數值\n",
    "f[0] = 0.0\n",
    "f[1] = 1.0/4.7\n",
    "f[2] = 1.8/12.2\n",
    "f[3] = 2.4/19\n",
    "f[4] = 3.5/31.8\n",
    "f[5] = 4.4/40.1\n",
    "f[6] = 5.1/43.8\n",
    "f[7] = 6.0/43.2\n",
    "#間隔\n",
    "h_list[0] = 1 - 0\n",
    "h_list[1] = 1.8 - 1\n",
    "h_list[2] = 2.4 - 1.8\n",
    "h_list[3] = 3.5 - 2.4\n",
    "h_list[4] = 4.4 - 3.5\n",
    "h_list[5] = 5.1 - 4.4\n",
    "h_list[6] = 6.0 - 5.1\n",
    "T = 0\n",
    "#print(f)\n",
    "#print(h_list)\n",
    "#print(len(f))\n",
    "for i in range(a,np.size(f)-1):\n",
    "    T += m/1000*(f[i] + f[i+1])*h_list[i]/2\n",
    "print(T)\n"
   ]
  },
  {
   "cell_type": "code",
   "execution_count": null,
   "id": "ffa0d97a-7521-4bd4-aeed-1403e04b7c2d",
   "metadata": {},
   "outputs": [],
   "source": []
  },
  {
   "cell_type": "code",
   "execution_count": null,
   "id": "d4329155-39aa-4bc1-9f83-dbf0221c02a5",
   "metadata": {},
   "outputs": [],
   "source": []
  },
  {
   "cell_type": "code",
   "execution_count": null,
   "id": "91794484-d2e9-460b-8010-3a417fd3e423",
   "metadata": {},
   "outputs": [],
   "source": []
  },
  {
   "cell_type": "code",
   "execution_count": null,
   "id": "7a78a2b2-97c4-49fc-b939-152cf1265fb4",
   "metadata": {},
   "outputs": [],
   "source": []
  }
 ],
 "metadata": {
  "kernelspec": {
   "display_name": "Python 3 (ipykernel)",
   "language": "python",
   "name": "python3"
  },
  "language_info": {
   "codemirror_mode": {
    "name": "ipython",
    "version": 3
   },
   "file_extension": ".py",
   "mimetype": "text/x-python",
   "name": "python",
   "nbconvert_exporter": "python",
   "pygments_lexer": "ipython3",
   "version": "3.9.7"
  }
 },
 "nbformat": 4,
 "nbformat_minor": 5
}
